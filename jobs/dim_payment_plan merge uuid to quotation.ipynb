{
 "cells": [
  {
   "cell_type": "code",
   "execution_count": null,
   "id": "3523d42f",
   "metadata": {},
   "outputs": [],
   "source": [
    "import pandas as pd\n",
    "import os\n",
    "from dotenv import load_dotenv\n",
    "from sqlalchemy import create_engine\n",
    "\n",
    "load_dotenv() \n",
    "\n",
    "user = os.getenv('DB_USER')\n",
    "password = os.getenv('DB_PASSWORD')\n",
    "host = os.getenv('DB_HOST')\n",
    "port = os.getenv('DB_PORT')  \n",
    "database = 'fininsurance'\n",
    "\n",
    "engine = create_engine(f'mariadb+mariadbconnector://{user}:{password}@{host}:{port}/{database}')\n",
    "\n",
    "query = \"\"\"\n",
    "SELECT quo_num, type_insure\n",
    "FROM fin_system_select_plan\n",
    "WHERE datestart >= '2025-05-01' AND datestart < '2025-07-01'\n",
    "AND type_insure IN ('ประกันรถ', 'ตรอ')\n",
    "\"\"\"\n",
    "\n",
    "df = pd.read_sql(query, engine)\n",
    "df\n"
   ]
  },
  {
   "cell_type": "code",
   "execution_count": null,
   "id": "3607b92b",
   "metadata": {},
   "outputs": [],
   "source": [
    "import pandas as pd\n",
    "import os\n",
    "from dotenv import load_dotenv\n",
    "from sqlalchemy import create_engine\n",
    "\n",
    "load_dotenv() \n",
    "\n",
    "user = os.getenv('DB_USER')\n",
    "password = os.getenv('DB_PASSWORD')\n",
    "host = os.getenv('DB_HOST')\n",
    "port = os.getenv('DB_PORT')  \n",
    "database = 'fininsurance'\n",
    "\n",
    "engine = create_engine(f'mariadb+mariadbconnector://{user}:{password}@{host}:{port}/{database}')\n",
    "\n",
    "query = \"\"\"\n",
    "SELECT quo_num, chanel_main, clickbank, chanel, numpay, condition_install\n",
    "FROM fin_system_pay\n",
    "WHERE datestart >= '2025-05-01' AND datestart < '2025-07-01'\n",
    "AND type_insure IN ('ประกันรถ', 'ตรอ')\n",
    "\"\"\"\n",
    "\n",
    "df2 = pd.read_sql(query, engine)\n",
    "df2\n"
   ]
  },
  {
   "cell_type": "code",
   "execution_count": null,
   "id": "6e26c45c",
   "metadata": {},
   "outputs": [],
   "source": [
    "# df2['numpay'] = df2['numpay'].replace({\n",
    "#     0: 1\n",
    "# })\n",
    "# df2"
   ]
  },
  {
   "cell_type": "code",
   "execution_count": null,
   "id": "7b6650e6",
   "metadata": {},
   "outputs": [],
   "source": [
    "df2['chanel'] = df2['chanel'].replace({\n",
    "    'ผ่อนบัตร': 'เข้าฟิน'\n",
    "})\n",
    "df2"
   ]
  },
  {
   "cell_type": "code",
   "execution_count": null,
   "id": "4df54b69",
   "metadata": {},
   "outputs": [],
   "source": [
    "import pandas as pd\n",
    "import os\n",
    "from dotenv import load_dotenv\n",
    "from sqlalchemy import create_engine\n",
    "\n",
    "load_dotenv() \n",
    "\n",
    "user = os.getenv('DB_USER')\n",
    "password = os.getenv('DB_PASSWORD')\n",
    "host = os.getenv('DB_HOST')\n",
    "port = os.getenv('DB_PORT')  \n",
    "database = 'fininsurance_task'\n",
    "\n",
    "engine = create_engine(f'mariadb+mariadbconnector://{user}:{password}@{host}:{port}/{database}')\n",
    "\n",
    "query = \"\"\"\n",
    "SELECT quo_num, status_paybill\n",
    "FROM fininsurance_task.fin_order\n",
    "WHERE type_insure IN ('ประกันรถ', 'ตรอ')\n",
    "\"\"\"\n",
    "\n",
    "df4 = pd.read_sql(query, engine)\n",
    "df4\n"
   ]
  },
  {
   "cell_type": "code",
   "execution_count": null,
   "id": "ce7bab04",
   "metadata": {},
   "outputs": [],
   "source": [
    "df_merged1 = pd.merge(df2, df4, on=['quo_num'],how='left')\n",
    "df_merged1"
   ]
  },
  {
   "cell_type": "code",
   "execution_count": null,
   "id": "8dd3e906",
   "metadata": {},
   "outputs": [],
   "source": [
    "# df_merged1['numpay'] = df_merged1['numpay'].replace({\n",
    "#     0: 1\n",
    "# })\n",
    "# df_merged1"
   ]
  },
  {
   "cell_type": "code",
   "execution_count": null,
   "id": "726056bb",
   "metadata": {},
   "outputs": [],
   "source": [
    "df_merged1 = df_merged1.rename(columns={'quo_num': 'quotation_num',\n",
    "                          'type_insure': 'type_insurance',\n",
    "                          'chanel': 'payment_reciever',\n",
    "                          'status_paybill': 'payment_type',\n",
    "                          })\n",
    "df_merged1"
   ]
  },
  {
   "cell_type": "code",
   "execution_count": null,
   "id": "789c5399",
   "metadata": {},
   "outputs": [],
   "source": [
    "def determine_payment_channel(row):\n",
    "    ch_main = str(row['chanel_main']).strip().lower()\n",
    "    cb_raw = row['clickbank']\n",
    "    cb = str(cb_raw).strip().lower()\n",
    "\n",
    "    is_cb_empty = pd.isna(cb_raw) or cb == ''\n",
    "\n",
    "    # ✅ เงื่อนไขเฉพาะสำหรับตัดบัตร / ผ่อนบัตร\n",
    "    if ch_main in ['ตัดบัตรเครดิต', 'ผ่อนบัตร', 'ผ่อนบัตรเครดิต', 'ผ่อนชำระ']:\n",
    "        if 'qrcode' in cb:\n",
    "            return 'QR Code'\n",
    "        elif 'creditcard' in cb:\n",
    "            return '2C2P'\n",
    "        else:\n",
    "            return 'ตัดบัตรกับฟิน'\n",
    "\n",
    "    # ✅ เงื่อนไขสำหรับโอนเงิน / ผ่อนโอน\n",
    "    if ch_main in ['โอนเงิน', 'ผ่อนโอน']:\n",
    "        if 'qrcode' in cb:\n",
    "            return 'QR Code'\n",
    "        else:\n",
    "            return 'โอนเงิน'\n",
    "\n",
    "    # ✅ เงื่อนไขทั่วไป\n",
    "    if ch_main and is_cb_empty:\n",
    "        return row['chanel_main']\n",
    "    elif not ch_main and not is_cb_empty:\n",
    "        if 'qrcode' in cb:\n",
    "            return 'QR Code'\n",
    "        elif 'creditcard' in cb:\n",
    "            return '2C2P'\n",
    "        else:\n",
    "            return row['clickbank']\n",
    "    elif not is_cb_empty:\n",
    "        if 'qrcode' in cb:\n",
    "            return 'QR Code'\n",
    "        elif 'creditcard' in cb:\n",
    "            return '2C2P'\n",
    "        else:\n",
    "            return row['clickbank']\n",
    "    else:\n",
    "        return ''\n",
    "\n",
    "\n",
    "# สร้างคอลัมน์ใหม่\n",
    "df_merged1['payment_channel'] = df_merged1.apply(determine_payment_channel, axis=1)\n",
    "df_merged1"
   ]
  },
  {
   "cell_type": "code",
   "execution_count": null,
   "id": "907803bf",
   "metadata": {},
   "outputs": [],
   "source": [
    "df_merged1.drop(columns=['chanel_main', 'clickbank', 'condition_install'], inplace=True)\n",
    "df_merged1"
   ]
  },
  {
   "cell_type": "code",
   "execution_count": null,
   "id": "0b704a4f",
   "metadata": {},
   "outputs": [],
   "source": [
    "df_merged1 = df_merged1.rename(columns={'numpay': 'installment_number',\n",
    "\n",
    "                          })\n",
    "df_merged1"
   ]
  },
  {
   "cell_type": "code",
   "execution_count": null,
   "id": "decfce32",
   "metadata": {},
   "outputs": [],
   "source": [
    "# df_merged3[df_merged3['quotation_num'].str.endswith('-r', na=False)]"
   ]
  },
  {
   "cell_type": "code",
   "execution_count": null,
   "id": "e8f28222",
   "metadata": {},
   "outputs": [],
   "source": [
    "df_merged1 = df_merged1[~df_merged1['quotation_num'].str.endswith('-r', na=False)]\n",
    "df_merged1"
   ]
  },
  {
   "cell_type": "code",
   "execution_count": null,
   "id": "3a231f5b",
   "metadata": {},
   "outputs": [],
   "source": [
    "import numpy as np\n",
    "\n",
    "df_merged1 = df_merged1.replace(['', np.nan], None)\n",
    "df_merged1"
   ]
  },
  {
   "cell_type": "code",
   "execution_count": null,
   "id": "4e63c9be",
   "metadata": {},
   "outputs": [],
   "source": [
    "df_merged1['installment_number'] = df_merged1['installment_number'].replace({\n",
    "    0: 1\n",
    "})\n",
    "df_merged1"
   ]
  },
  {
   "cell_type": "code",
   "execution_count": null,
   "id": "82d21488",
   "metadata": {},
   "outputs": [],
   "source": [
    "import pandas as pd\n",
    "import os\n",
    "from dotenv import load_dotenv\n",
    "from sqlalchemy import create_engine\n",
    "\n",
    "load_dotenv()  # อย่าลืมโหลด .env\n",
    "\n",
    "user = os.getenv('DB_USER')\n",
    "password = os.getenv('DB_PASSWORD')\n",
    "host = os.getenv('DB_HOST')\n",
    "port = os.getenv('DB_PORT')  \n",
    "database = 'fininsurance'\n",
    "\n",
    "engine = create_engine(f'mariadb+mariadbconnector://{user}:{password}@{host}:{port}/{database}')\n",
    "\n",
    "query = \"\"\"\n",
    "SELECT * \n",
    "FROM fininsurance.fin_system_select_plan\n",
    "where name in ('ทดสอบ','test')\n",
    "and datestart >= '2025-05-01' AND datestart < '2025-07-01'\n",
    "AND type_insure IN ('ประกันรถ', 'ตรอ');\n",
    "\"\"\"\n",
    "\n",
    "dele = pd.read_sql(query, engine)\n",
    "dele\n"
   ]
  },
  {
   "cell_type": "code",
   "execution_count": null,
   "id": "20c2150a",
   "metadata": {},
   "outputs": [],
   "source": [
    "dele = dele.rename(columns={'quo_num': 'quotation_num', 'num_pay': 'installment_number'})\n",
    "dele"
   ]
  },
  {
   "cell_type": "code",
   "execution_count": null,
   "id": "346bdd1b",
   "metadata": {},
   "outputs": [],
   "source": [
    "# ลบแถวใน df ที่มี quo_num ตรงกับใน dele\n",
    "df_merged1 = df_merged1[~df_merged1['quotation_num'].isin(dele['quotation_num'])]\n",
    "df_merged1"
   ]
  },
  {
   "cell_type": "code",
   "execution_count": null,
   "id": "e180226a",
   "metadata": {},
   "outputs": [],
   "source": [
    "df_merged1 = df_merged1[df_merged1['quotation_num'] != 'FQ2505-24999']\n",
    "df_merged1"
   ]
  },
  {
   "cell_type": "markdown",
   "id": "b6d58125",
   "metadata": {},
   "source": [
    "db postgres update table quotation"
   ]
  },
  {
   "cell_type": "code",
   "execution_count": null,
   "id": "87da46fb",
   "metadata": {},
   "outputs": [],
   "source": [
    "import pandas as pd\n",
    "import os\n",
    "from dotenv import load_dotenv\n",
    "from sqlalchemy import create_engine\n",
    "import numpy as np\n",
    "\n",
    "# โหลดตัวแปรจาก .env\n",
    "load_dotenv()\n",
    "\n",
    "# ดึงค่าจาก environment\n",
    "user = os.getenv('DB_USER_test')\n",
    "password = os.getenv('DB_PASSWORD_test')\n",
    "host = os.getenv('DB_HOST_test')\n",
    "port = os.getenv('DB_PORT_test')  \n",
    "database = 'fininsurance'\n",
    "\n",
    "# สร้าง engine สำหรับเชื่อมต่อฐานข้อมูล\n",
    "engine = create_engine(f'postgresql+psycopg2://{user}:{password}@{host}:{port}/{database}')\n",
    "\n",
    "# SQL query\n",
    "query = \"\"\"\n",
    "SELECT *\n",
    "FROM dim_payment_plan \n",
    "\"\"\"\n",
    "\n",
    "df5 = pd.read_sql(query, engine)\n",
    "df5"
   ]
  },
  {
   "cell_type": "code",
   "execution_count": null,
   "id": "1f9d2cf7",
   "metadata": {},
   "outputs": [],
   "source": [
    "df5 = df5.drop(columns=['create_at', 'update_at'])\n",
    "df5"
   ]
  },
  {
   "cell_type": "code",
   "execution_count": null,
   "id": "856464e3",
   "metadata": {},
   "outputs": [],
   "source": [
    "df_result = pd.merge(df_merged1, df5, on=['quotation_num'], how='right')\n",
    "df_result"
   ]
  },
  {
   "cell_type": "code",
   "execution_count": null,
   "id": "2b822587",
   "metadata": {},
   "outputs": [],
   "source": [
    "df_result = df_result[['quotation_num', 'payment_plan_id']]\n",
    "df_result"
   ]
  },
  {
   "cell_type": "code",
   "execution_count": null,
   "id": "5eda4a70",
   "metadata": {},
   "outputs": [],
   "source": [
    "import pandas as pd\n",
    "import os\n",
    "from dotenv import load_dotenv\n",
    "from sqlalchemy import create_engine\n",
    "import numpy as np\n",
    "\n",
    "# โหลดตัวแปรจาก .env\n",
    "load_dotenv()\n",
    "\n",
    "# ดึงค่าจาก environment\n",
    "user = os.getenv('DB_USER_test')\n",
    "password = os.getenv('DB_PASSWORD_test')\n",
    "host = os.getenv('DB_HOST_test')\n",
    "port = os.getenv('DB_PORT_test')  \n",
    "database = 'fininsurance'\n",
    "\n",
    "# สร้าง engine สำหรับเชื่อมต่อฐานข้อมูล\n",
    "engine = create_engine(f'postgresql+psycopg2://{user}:{password}@{host}:{port}/{database}')\n",
    "\n",
    "# SQL query\n",
    "query = \"\"\"\n",
    "SELECT *\n",
    "FROM fact_sales_quotation \n",
    "\"\"\"\n",
    "\n",
    "df6 = pd.read_sql(query, engine)\n",
    "df6"
   ]
  },
  {
   "cell_type": "code",
   "execution_count": null,
   "id": "c1b9fc5c",
   "metadata": {},
   "outputs": [],
   "source": [
    "df6 = df6.drop(columns=['create_at', 'update_at', 'payment_plan_id'])\n",
    "df6"
   ]
  },
  {
   "cell_type": "code",
   "execution_count": null,
   "id": "9605b218",
   "metadata": {},
   "outputs": [],
   "source": [
    "df_result1 = pd.merge(df_result, df6, on=['quotation_num'], how='right')\n",
    "df_result1"
   ]
  },
  {
   "cell_type": "code",
   "execution_count": null,
   "id": "9bb54e9b",
   "metadata": {},
   "outputs": [],
   "source": [
    "df_result1 = df_result1.drop_duplicates(subset=['quotation_num'], keep='last')\n",
    "df_result1"
   ]
  },
  {
   "cell_type": "code",
   "execution_count": null,
   "id": "1f2e0cbb",
   "metadata": {},
   "outputs": [],
   "source": [
    "import numpy as np\n",
    "import pandas as pd\n",
    "\n",
    "# แก้ NaT, NaN ทั้ง dataframe ให้เป็น None\n",
    "df_result1 = df_result1.where(pd.notnull(df_result1), None)\n"
   ]
  },
  {
   "cell_type": "code",
   "execution_count": null,
   "id": "c81580a5",
   "metadata": {},
   "outputs": [],
   "source": [
    "import os\n",
    "from sqlalchemy import create_engine, MetaData, Table, update\n",
    "from sqlalchemy import text\n",
    "\n",
    "user = os.getenv('DB_USER_test')\n",
    "password = os.getenv('DB_PASSWORD_test')\n",
    "host = os.getenv('DB_HOST_test')\n",
    "port = os.getenv('DB_PORT_test')\n",
    "database = 'fininsurance'\n",
    "\n",
    "engine = create_engine(f'postgresql+psycopg2://{user}:{password}@{host}:{port}/{database}')\n",
    "\n",
    "metadata = MetaData()\n",
    "table = Table('fact_sales_quotation', metadata, autoload_with=engine)\n",
    "\n",
    "records = df_result1.to_dict(orient='records')\n",
    "\n",
    "chunk_size = 5000\n",
    "\n",
    "for start in range(0, len(records), chunk_size):\n",
    "    end = start + chunk_size\n",
    "    chunk = records[start:end]\n",
    "\n",
    "    print(f\"🔄 Updating chunk {start // chunk_size + 1}: records {start} to {end - 1}\")\n",
    "\n",
    "    with engine.begin() as conn:\n",
    "        for record in chunk:\n",
    "            # ตรวจสอบว่ามี quotation_num และ payment_plan_id หรือไม่\n",
    "            if 'quotation_num' not in record or pd.isna(record['quotation_num']):\n",
    "                print(f\"⚠️ Skip row: no quotation_num: {record}\")\n",
    "                continue\n",
    "            if 'payment_plan_id' not in record or pd.isna(record['payment_plan_id']):\n",
    "                print(f\"⚠️ Skip row: no payment_plan_id: {record}\")\n",
    "                continue\n",
    "\n",
    "            # ✅ Update เฉพาะคอลัมน์เดียว\n",
    "            stmt = (\n",
    "                update(table)\n",
    "                .where(table.c.quotation_num == record['quotation_num'])\n",
    "                .values(payment_plan_id=record['payment_plan_id'])\n",
    "            )\n",
    "            conn.execute(stmt)\n",
    "\n",
    "print(\"✅ Update payment_plan_id completed successfully.\")\n",
    "\n",
    "# 🔥 ลบคอลัมน์ quotation_num ในตาราง dim_payment_plan\n",
    "with engine.begin() as conn:\n",
    "    conn.execute(text(\"ALTER TABLE dim_payment_plan DROP COLUMN quotation_num;\"))\n",
    "\n",
    "print(\"🗑️ ลบคอลัมน์ quotation_num ในตาราง dim_payment_plan เรียบร้อยแล้ว!\")"
   ]
  },
  {
   "cell_type": "code",
   "execution_count": null,
   "id": "b7030c15",
   "metadata": {},
   "outputs": [],
   "source": []
  }
 ],
 "metadata": {
  "kernelspec": {
   "display_name": "Python 3",
   "language": "python",
   "name": "python3"
  },
  "language_info": {
   "codemirror_mode": {
    "name": "ipython",
    "version": 3
   },
   "file_extension": ".py",
   "mimetype": "text/x-python",
   "name": "python",
   "nbconvert_exporter": "python",
   "pygments_lexer": "ipython3",
   "version": "3.11.9"
  }
 },
 "nbformat": 4,
 "nbformat_minor": 5
}
