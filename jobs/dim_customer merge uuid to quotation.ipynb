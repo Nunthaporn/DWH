{
 "cells": [
  {
   "cell_type": "code",
   "execution_count": null,
   "id": "abdde54e",
   "metadata": {},
   "outputs": [],
   "source": [
    "import pandas as pd\n",
    "import os\n",
    "from dotenv import load_dotenv\n",
    "from sqlalchemy import create_engine\n",
    "\n",
    "load_dotenv()  # อย่าลืมโหลด .env\n",
    "\n",
    "user = os.getenv('DB_USER')\n",
    "password = os.getenv('DB_PASSWORD')\n",
    "host = os.getenv('DB_HOST')\n",
    "port = os.getenv('DB_PORT')  \n",
    "database = 'fininsurance'\n",
    "\n",
    "engine = create_engine(f'mariadb+mariadbconnector://{user}:{password}@{host}:{port}/{database}')\n",
    "\n",
    "query = \"\"\"\n",
    "SELECT quo_num, address, province, amphoe, district, zipcode, datestart\n",
    "FROM fin_system_pay\n",
    "WHERE datestart >= '2025-05-01' AND datestart < '2025-07-01'\n",
    "AND type_insure IN ('ประกันรถ', 'ตรอ')\n",
    "\"\"\"\n",
    "\n",
    "df = pd.read_sql(query, engine)\n",
    "df\n"
   ]
  },
  {
   "cell_type": "code",
   "execution_count": null,
   "id": "c638d30f",
   "metadata": {},
   "outputs": [],
   "source": [
    "import pandas as pd\n",
    "import os\n",
    "from dotenv import load_dotenv\n",
    "from sqlalchemy import create_engine\n",
    "\n",
    "load_dotenv() \n",
    "\n",
    "user = os.getenv('DB_USER')\n",
    "password = os.getenv('DB_PASSWORD')\n",
    "host = os.getenv('DB_HOST')\n",
    "port = os.getenv('DB_PORT')  \n",
    "database = 'fininsurance'\n",
    "\n",
    "engine = create_engine(f'mariadb+mariadbconnector://{user}:{password}@{host}:{port}/{database}')\n",
    "\n",
    "query = \"\"\"\n",
    "SELECT quo_num, idcard, title, name, lastname, birthDate, career, gender, tel, email, datestart\n",
    "FROM fin_system_select_plan\n",
    "WHERE datestart >= '2025-05-01' AND datestart < '2025-07-01'\n",
    "AND type_insure IN ('ประกันรถ', 'ตรอ')\n",
    "\"\"\"\n",
    "\n",
    "df1 = pd.read_sql(query, engine)\n",
    "df1\n"
   ]
  },
  {
   "cell_type": "code",
   "execution_count": null,
   "id": "117489c5",
   "metadata": {},
   "outputs": [],
   "source": [
    "df_merged = pd.merge(df, df1, on='quo_num', how='right')\n",
    "df_merged"
   ]
  },
  {
   "cell_type": "code",
   "execution_count": null,
   "id": "01dba281",
   "metadata": {},
   "outputs": [],
   "source": [
    "df_merged = df_merged.drop_duplicates(subset=['address', 'province', 'amphoe', 'district', 'zipcode'])\n",
    "df_merged"
   ]
  },
  {
   "cell_type": "code",
   "execution_count": null,
   "id": "e7b12c16",
   "metadata": {},
   "outputs": [],
   "source": [
    "df_merged = df_merged.drop_duplicates(subset=['name', 'lastname'])\n",
    "df_merged"
   ]
  },
  {
   "cell_type": "code",
   "execution_count": null,
   "id": "87f5a903",
   "metadata": {},
   "outputs": [],
   "source": [
    "df_merged = df_merged.drop_duplicates(subset=['idcard'])\n",
    "df_merged"
   ]
  },
  {
   "cell_type": "code",
   "execution_count": null,
   "id": "b7eb019a",
   "metadata": {},
   "outputs": [],
   "source": [
    "df_merged = df_merged.drop(columns=['datestart_x', 'datestart_y'])\n",
    "df_merged"
   ]
  },
  {
   "cell_type": "code",
   "execution_count": null,
   "id": "38732555",
   "metadata": {},
   "outputs": [],
   "source": [
    "df_merged['full_name'] = df_merged.apply(\n",
    "    lambda row: row['name'] if str(row['name']).strip() == str(row['lastname']).strip()\n",
    "    else f\"{str(row['name']).strip()} {str(row['lastname']).strip()}\",\n",
    "    axis=1\n",
    ")\n",
    "\n",
    "df_merged"
   ]
  },
  {
   "cell_type": "code",
   "execution_count": null,
   "id": "2d29f258",
   "metadata": {},
   "outputs": [],
   "source": [
    "df_cleaned = df_merged.drop(columns=['name', 'lastname'])\n",
    "df_cleaned"
   ]
  },
  {
   "cell_type": "code",
   "execution_count": null,
   "id": "4a254608",
   "metadata": {},
   "outputs": [],
   "source": [
    "from datetime import date\n",
    "import pandas as pd\n",
    "\n",
    "# แปลง birth_date เป็น datetime (ถ้ายังไม่ได้แปลง)\n",
    "df_cleaned['birthDate'] = pd.to_datetime(df_cleaned['birthDate'], errors='coerce')\n",
    "\n",
    "# คำนวณอายุจาก birthDate และจัดการค่า null\n",
    "df_cleaned['age'] = df_cleaned['birthDate'].apply(\n",
    "    lambda x: (\n",
    "        date.today().year - x.year - ((date.today().month, date.today().day) < (x.month, x.day))\n",
    "        if pd.notnull(x) else pd.NA\n",
    "    )\n",
    ").astype('Int64')\n",
    "df_cleaned"
   ]
  },
  {
   "cell_type": "code",
   "execution_count": null,
   "id": "5e545c18",
   "metadata": {},
   "outputs": [],
   "source": [
    "rename_columns = {\n",
    "    'idcard': 'customer_card',\n",
    "    'title': 'title',\n",
    "    'full_name': 'customer_name',\n",
    "    'birthDate': 'customer_dob',\n",
    "    'gender': 'customer_gender',\n",
    "    'tel': 'customer_telnumber',\n",
    "    'email': 'customer_email',\n",
    "    'address': 'address',\n",
    "    'province': 'province',\n",
    "    'amphoe': 'district',\n",
    "    'district': 'subdistrict',\n",
    "    'zipcode': 'zipcode',\n",
    "    'career': 'job'\n",
    "}\n",
    "\n",
    "df = df_cleaned.rename(columns=rename_columns)\n",
    "df"
   ]
  },
  {
   "cell_type": "code",
   "execution_count": null,
   "id": "2fe50300",
   "metadata": {},
   "outputs": [],
   "source": [
    "gender_mapping = {\n",
    "    'M': 'Male',\n",
    "    'F': 'Female',\n",
    "\n",
    "}\n",
    "\n",
    "df['customer_gender'] = df['customer_gender'].map(gender_mapping)\n"
   ]
  },
  {
   "cell_type": "code",
   "execution_count": null,
   "id": "af81ecb0",
   "metadata": {},
   "outputs": [],
   "source": [
    "import numpy as np\n",
    "\n",
    "df = df.replace(\n",
    "    to_replace=r'^\\s*$|^(?i:none|null|na)$|^[-.]$',\n",
    "    value=np.nan,\n",
    "    regex=True\n",
    ")\n",
    "df"
   ]
  },
  {
   "cell_type": "code",
   "execution_count": null,
   "id": "586d8172",
   "metadata": {},
   "outputs": [],
   "source": [
    "# ลบคำว่า ' None' ที่อยู่หลังสุดของข้อความ\n",
    "df['customer_name'] = df['customer_name'].str.replace(r'\\s*None$', '', regex=True)\n",
    "df"
   ]
  },
  {
   "cell_type": "code",
   "execution_count": null,
   "id": "b44e8cc5",
   "metadata": {},
   "outputs": [],
   "source": [
    "df['customer_telnumber'] = df['customer_telnumber'].str.replace('-', '', regex=False)\n",
    "df"
   ]
  },
  {
   "cell_type": "code",
   "execution_count": null,
   "id": "1eeb0c81",
   "metadata": {},
   "outputs": [],
   "source": [
    "test_names = [\n",
    "    'ทดสอบ',\n",
    "    'ทดสอบ ',\n",
    "    'ทดสอบ จากฟิน',\n",
    "    'ทดสอบ พ.ร.บ.',\n",
    "    'ทดสอบ06',\n",
    "    'ทดสอบ',\n",
    "    'ทดสอบระบบ ประกัน+พ.ร.บ.',\n",
    "    'ลูกค้า ทดสอบ',\n",
    "    'ทดสอบ เช็คเบี้ย',\n",
    "    'ทดสอบพ.ร.บ. งานคีย์มือ',\n",
    "    'ทดสอบ ระบบ',\n",
    "    'ทดสอบคีย์มือ ธนชาตผู้ขับขี่',\n",
    "    'ทดสอบ04',\n",
    "    'test',\n",
    "    'test2',\n",
    "    'test tes',\n",
    "    'test ระบบ',\n",
    "    'Tes ระบบ'\n",
    "]\n",
    "\n",
    "df = df[~df['customer_name'].isin(test_names)]\n",
    "df"
   ]
  },
  {
   "cell_type": "code",
   "execution_count": null,
   "id": "c971d0c2",
   "metadata": {},
   "outputs": [],
   "source": [
    "import re\n",
    "\n",
    "def clean_telnumber(val):\n",
    "    if pd.isnull(val) or val.strip() == \"\":\n",
    "        return None\n",
    "\n",
    "    # ดึงเฉพาะตัวเลข\n",
    "    digits = re.sub(r'\\D', '', val)\n",
    "\n",
    "    # ถ้าไม่เหลือตัวเลข → แปลงเป็น None\n",
    "    if digits == \"\":\n",
    "        return None\n",
    "    else:\n",
    "        return digits\n",
    "\n",
    "# Apply\n",
    "df['customer_telnumber'] = df['customer_telnumber'].apply(clean_telnumber)\n",
    "\n",
    "df\n"
   ]
  },
  {
   "cell_type": "code",
   "execution_count": null,
   "id": "5b3db8b0",
   "metadata": {},
   "outputs": [],
   "source": [
    "df['address'] = df['address'].str.replace('-', '', regex=False)\n",
    "df"
   ]
  },
  {
   "cell_type": "code",
   "execution_count": null,
   "id": "c679986a",
   "metadata": {},
   "outputs": [],
   "source": [
    "import re\n",
    "\n",
    "def clean_address(val):\n",
    "    if pd.isnull(val) or val.strip() == \"\":\n",
    "        return val\n",
    "\n",
    "    # ลบตัวอักษรสระ/วรรณยุกต์ที่อยู่ต้น string\n",
    "    # กลุ่มสระ/วรรณยุกต์: ุ ู ึ ื ี ฺ ำ ะ ั ิ ฯ ฦ ะ ฯลฯ\n",
    "    # แต่ในกรณีนี้เราจะเน้นสระที่พิมพ์ผิด: ุ ู ึ ื ี ิ \n",
    "    cleaned = re.sub(r'^[ุูึืิ]+', '', val.strip())\n",
    "    return cleaned\n",
    "\n",
    "# Apply\n",
    "df['address'] = df['address'].apply(clean_address)\n",
    "df\n"
   ]
  },
  {
   "cell_type": "code",
   "execution_count": null,
   "id": "5dff0a68",
   "metadata": {},
   "outputs": [],
   "source": [
    "import re\n",
    "\n",
    "def remove_parentheses(val):\n",
    "    if pd.isnull(val) or val.strip() == \"\":\n",
    "        return val\n",
    "\n",
    "    # ลบทุกอย่างในวงเล็บรวมวงเล็บ\n",
    "    cleaned = re.sub(r'\\([^)]*\\)', '', val).strip()\n",
    "    return cleaned\n",
    "\n",
    "# Apply\n",
    "df['address'] = df['address'].apply(remove_parentheses)\n",
    "\n",
    "df\n"
   ]
  },
  {
   "cell_type": "code",
   "execution_count": null,
   "id": "73643277",
   "metadata": {},
   "outputs": [],
   "source": [
    "import pandas as pd\n",
    "import re\n",
    "\n",
    "def clean_address(val):\n",
    "    if pd.isnull(val) or val.strip() == \"\":\n",
    "        return None\n",
    "\n",
    "    val = val.strip()\n",
    "\n",
    "    # ถ้ามีแค่ \"/\" อย่างเดียว → ให้เป็น None\n",
    "    if val == \"/\":\n",
    "        return None\n",
    "\n",
    "    # ลบ \":\" ที่อยู่ต้นหรือที่มีอยู่\n",
    "    val = val.lstrip(':').strip()\n",
    "\n",
    "    return val\n",
    "\n",
    "# Apply\n",
    "df['address'] = df['address'].apply(clean_address)\n",
    "\n",
    "df\n"
   ]
  },
  {
   "cell_type": "code",
   "execution_count": null,
   "id": "ad585787",
   "metadata": {},
   "outputs": [],
   "source": [
    "df['customer_email'] = df['customer_email'].str.replace('_', '', regex=False)\n",
    "df"
   ]
  },
  {
   "cell_type": "code",
   "execution_count": null,
   "id": "529fc8f5",
   "metadata": {},
   "outputs": [],
   "source": [
    "df['title'] = df['title'].str.replace('‘นาย', 'นาย', regex=False).str.strip()\n",
    "df"
   ]
  },
  {
   "cell_type": "code",
   "execution_count": null,
   "id": "7b75a6ae",
   "metadata": {},
   "outputs": [],
   "source": [
    "# df.to_excel('dim_customer.xlsx', index=False, engine='openpyxl')"
   ]
  },
  {
   "cell_type": "markdown",
   "id": "217f8fd3",
   "metadata": {},
   "source": [
    "db postgres update table quotation"
   ]
  },
  {
   "cell_type": "code",
   "execution_count": null,
   "id": "70b8ae3e",
   "metadata": {},
   "outputs": [],
   "source": [
    "import pandas as pd\n",
    "import os\n",
    "from dotenv import load_dotenv\n",
    "from sqlalchemy import create_engine\n",
    "import numpy as np\n",
    "\n",
    "# โหลดตัวแปรจาก .env\n",
    "load_dotenv()\n",
    "\n",
    "# ดึงค่าจาก environment\n",
    "user = os.getenv('DB_USER_test')\n",
    "password = os.getenv('DB_PASSWORD_test')\n",
    "host = os.getenv('DB_HOST_test')\n",
    "port = os.getenv('DB_PORT_test')  \n",
    "database = 'fininsurance'\n",
    "\n",
    "# สร้าง engine สำหรับเชื่อมต่อฐานข้อมูล\n",
    "engine = create_engine(f'postgresql+psycopg2://{user}:{password}@{host}:{port}/{database}')\n",
    "\n",
    "# SQL query\n",
    "query = \"\"\"\n",
    "SELECT *\n",
    "FROM dim_customer \n",
    "\"\"\"\n",
    "\n",
    "df5 = pd.read_sql(query, engine)\n",
    "df5"
   ]
  },
  {
   "cell_type": "code",
   "execution_count": null,
   "id": "80822135",
   "metadata": {},
   "outputs": [],
   "source": [
    "df5 = df5.drop(columns=['create_at', 'update_at'])\n",
    "df5"
   ]
  },
  {
   "cell_type": "code",
   "execution_count": null,
   "id": "c33300ff",
   "metadata": {},
   "outputs": [],
   "source": [
    "df_result = pd.merge(df, df5, on=['customer_card', 'customer_name'], how='right')\n",
    "df_result"
   ]
  },
  {
   "cell_type": "code",
   "execution_count": null,
   "id": "fac39b41",
   "metadata": {},
   "outputs": [],
   "source": [
    "df_result = df_result[['quo_num', 'customer_sk']]\n",
    "df_result"
   ]
  },
  {
   "cell_type": "code",
   "execution_count": null,
   "id": "33491204",
   "metadata": {},
   "outputs": [],
   "source": [
    "df_result = df_result.rename(columns={'quo_num': 'quotation_num'})\n",
    "df_result"
   ]
  },
  {
   "cell_type": "code",
   "execution_count": null,
   "id": "24a4515d",
   "metadata": {},
   "outputs": [],
   "source": [
    "import pandas as pd\n",
    "import os\n",
    "from dotenv import load_dotenv\n",
    "from sqlalchemy import create_engine\n",
    "import numpy as np\n",
    "\n",
    "# โหลดตัวแปรจาก .env\n",
    "load_dotenv()\n",
    "\n",
    "# ดึงค่าจาก environment\n",
    "user = os.getenv('DB_USER_test')\n",
    "password = os.getenv('DB_PASSWORD_test')\n",
    "host = os.getenv('DB_HOST_test')\n",
    "port = os.getenv('DB_PORT_test')  \n",
    "database = 'fininsurance'\n",
    "\n",
    "# สร้าง engine สำหรับเชื่อมต่อฐานข้อมูล\n",
    "engine = create_engine(f'postgresql+psycopg2://{user}:{password}@{host}:{port}/{database}')\n",
    "\n",
    "# SQL query\n",
    "query = \"\"\"\n",
    "SELECT *\n",
    "FROM fact_sales_quotation \n",
    "\"\"\"\n",
    "\n",
    "df6 = pd.read_sql(query, engine)\n",
    "df6"
   ]
  },
  {
   "cell_type": "code",
   "execution_count": null,
   "id": "72ec5f35",
   "metadata": {},
   "outputs": [],
   "source": [
    "df6 = df6.drop(columns=['create_at', 'update_at', 'customer_id'])\n",
    "df6"
   ]
  },
  {
   "cell_type": "code",
   "execution_count": null,
   "id": "0377eda3",
   "metadata": {},
   "outputs": [],
   "source": [
    "df_result1 = pd.merge(df_result, df6, on=['quotation_num'], how='right')\n",
    "df_result1"
   ]
  },
  {
   "cell_type": "code",
   "execution_count": null,
   "id": "bdf839f5",
   "metadata": {},
   "outputs": [],
   "source": [
    "df_result1 = df_result1.rename(columns={'customer_sk': 'customer_id'})\n",
    "df_result1"
   ]
  },
  {
   "cell_type": "code",
   "execution_count": null,
   "id": "a128f442",
   "metadata": {},
   "outputs": [],
   "source": [
    "df_result1 = df_result1.drop_duplicates(subset=['quotation_num'], keep='last')\n",
    "df_result1"
   ]
  },
  {
   "cell_type": "code",
   "execution_count": null,
   "id": "36e5c41d",
   "metadata": {},
   "outputs": [],
   "source": [
    "import numpy as np\n",
    "import pandas as pd\n",
    "\n",
    "# แก้ NaT, NaN ทั้ง dataframe ให้เป็น None\n",
    "df_result1 = df_result1.where(pd.notnull(df_result1), None)\n"
   ]
  },
  {
   "cell_type": "code",
   "execution_count": null,
   "id": "8d6402b8",
   "metadata": {},
   "outputs": [],
   "source": [
    "import os\n",
    "from sqlalchemy import create_engine, MetaData, Table, update\n",
    "\n",
    "user = os.getenv('DB_USER_test')\n",
    "password = os.getenv('DB_PASSWORD_test')\n",
    "host = os.getenv('DB_HOST_test')\n",
    "port = os.getenv('DB_PORT_test')\n",
    "database = 'fininsurance'\n",
    "\n",
    "engine = create_engine(f'postgresql+psycopg2://{user}:{password}@{host}:{port}/{database}')\n",
    "\n",
    "metadata = MetaData()\n",
    "table = Table('fact_sales_quotation', metadata, autoload_with=engine)\n",
    "\n",
    "records = df_result1.to_dict(orient='records')\n",
    "\n",
    "chunk_size = 5000\n",
    "\n",
    "for start in range(0, len(records), chunk_size):\n",
    "    end = start + chunk_size\n",
    "    chunk = records[start:end]\n",
    "\n",
    "    print(f\"🔄 Updating chunk {start // chunk_size + 1}: records {start} to {end - 1}\")\n",
    "\n",
    "    with engine.begin() as conn:\n",
    "        for record in chunk:\n",
    "            # ตรวจสอบว่ามี quotation_num และ customer_id หรือไม่\n",
    "            if 'quotation_num' not in record or pd.isna(record['quotation_num']):\n",
    "                print(f\"⚠️ Skip row: no quotation_num: {record}\")\n",
    "                continue\n",
    "            if 'customer_id' not in record or pd.isna(record['customer_id']):\n",
    "                print(f\"⚠️ Skip row: no customer_id: {record}\")\n",
    "                continue\n",
    "\n",
    "            # ✅ Update เฉพาะคอลัมน์เดียว\n",
    "            stmt = (\n",
    "                update(table)\n",
    "                .where(table.c.quotation_num == record['quotation_num'])\n",
    "                .values(customer_id=record['customer_id'])\n",
    "            )\n",
    "            conn.execute(stmt)\n",
    "\n",
    "print(\"✅ Update customer_id completed successfully.\")"
   ]
  },
  {
   "cell_type": "code",
   "execution_count": null,
   "id": "5f10c384",
   "metadata": {},
   "outputs": [],
   "source": []
  }
 ],
 "metadata": {
  "kernelspec": {
   "display_name": "Python 3",
   "language": "python",
   "name": "python3"
  },
  "language_info": {
   "codemirror_mode": {
    "name": "ipython",
    "version": 3
   },
   "file_extension": ".py",
   "mimetype": "text/x-python",
   "name": "python",
   "nbconvert_exporter": "python",
   "pygments_lexer": "ipython3",
   "version": "3.11.9"
  }
 },
 "nbformat": 4,
 "nbformat_minor": 5
}
