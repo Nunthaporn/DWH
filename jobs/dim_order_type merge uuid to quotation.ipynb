{
 "cells": [
  {
   "cell_type": "code",
   "execution_count": null,
   "id": "abdde54e",
   "metadata": {},
   "outputs": [],
   "source": [
    "import pandas as pd\n",
    "import os\n",
    "from dotenv import load_dotenv\n",
    "from sqlalchemy import create_engine\n",
    "import numpy as np\n",
    "\n",
    "# โหลดตัวแปรจาก .env\n",
    "load_dotenv()\n",
    "\n",
    "# ดึงค่าจาก environment\n",
    "user = os.getenv('DB_USER')\n",
    "password = os.getenv('DB_PASSWORD')\n",
    "host = os.getenv('DB_HOST')\n",
    "port = os.getenv('DB_PORT')  \n",
    "database = 'fininsurance'\n",
    "\n",
    "# สร้าง engine สำหรับเชื่อมต่อฐานข้อมูล\n",
    "engine = create_engine(f'mariadb+mariadbconnector://{user}:{password}@{host}:{port}/{database}')\n",
    "\n",
    "# SQL query\n",
    "query = \"\"\"\n",
    "SELECT quo_num,type_insure,type_work, type_status , type_key , app_type, chanel_key\n",
    "FROM fin_system_select_plan \n",
    "WHERE datestart >= '2025-05-01' AND datestart < '2025-07-01'\n",
    "AND type_insure IN ('ประกันรถ', 'ตรอ')\n",
    "\"\"\"\n",
    "\n",
    "df = pd.read_sql(query, engine)\n",
    "df\n"
   ]
  },
  {
   "cell_type": "code",
   "execution_count": null,
   "id": "c638d30f",
   "metadata": {},
   "outputs": [],
   "source": [
    "import pandas as pd\n",
    "import os\n",
    "from dotenv import load_dotenv\n",
    "from sqlalchemy import create_engine\n",
    "\n",
    "load_dotenv() \n",
    "\n",
    "user = os.getenv('DB_USER')\n",
    "password = os.getenv('DB_PASSWORD')\n",
    "host = os.getenv('DB_HOST')\n",
    "port = os.getenv('DB_PORT')  \n",
    "database = 'fininsurance_task'\n",
    "\n",
    "engine = create_engine(f'mariadb+mariadbconnector://{user}:{password}@{host}:{port}/{database}')\n",
    "\n",
    "query = \"\"\"\n",
    "SELECT quo_num,worksend\n",
    "FROM fin_order\n",
    "\n",
    "\"\"\"\n",
    "\n",
    "df1 = pd.read_sql(query, engine)\n",
    "df1\n"
   ]
  },
  {
   "cell_type": "code",
   "execution_count": null,
   "id": "117489c5",
   "metadata": {},
   "outputs": [],
   "source": [
    "df_merged = pd.merge(df, df1, on='quo_num', how='left')\n",
    "df_merged"
   ]
  },
  {
   "cell_type": "code",
   "execution_count": null,
   "id": "74f5dbfb",
   "metadata": {},
   "outputs": [],
   "source": [
    "import pandas as pd\n",
    "\n",
    "def fill_chanel_key(row):\n",
    "    chanel_key = row['chanel_key']\n",
    "    type_key = row['type_key']\n",
    "    app_type = row['app_type']\n",
    "    type_insure = row['type_insure']\n",
    "\n",
    "    # ถ้า chanel_key มีค่าอยู่แล้ว\n",
    "    if pd.notnull(chanel_key) and str(chanel_key).strip() != \"\":\n",
    "        return chanel_key\n",
    "\n",
    "    # ถ้าทั้ง type_key และ app_type ไม่ null\n",
    "    if pd.notnull(type_key) and pd.notnull(app_type):\n",
    "        if type_key == app_type:\n",
    "            if type_insure == 'ตรอ':\n",
    "                return f\"{type_key} VIF\"\n",
    "            else:\n",
    "                return type_key\n",
    "        else:\n",
    "            if type_key in app_type:\n",
    "                base = app_type.replace(type_key, \"\").replace(\"-\", \"\").strip()\n",
    "                return f\"{type_key} {base}\" if base else type_key\n",
    "            elif app_type in type_key:\n",
    "                base = type_key.replace(app_type, \"\").replace(\"-\", \"\").strip()\n",
    "                return f\"{app_type} {base}\" if base else app_type\n",
    "            else:\n",
    "                return f\"{type_key} {app_type}\"\n",
    "\n",
    "    # ถ้ามีแค่ type_key\n",
    "    if pd.notnull(type_key) and (pd.isnull(app_type) or str(app_type).strip() == \"\"):\n",
    "        if pd.notnull(type_insure) and str(type_insure).strip() != \"\":\n",
    "            return f\"{type_key} {type_insure}\"\n",
    "        else:\n",
    "            return type_key\n",
    "\n",
    "    # ถ้ามีแค่ app_type\n",
    "    if pd.notnull(app_type) and (pd.isnull(type_key) or str(type_key).strip() == \"\"):\n",
    "        if pd.notnull(type_insure) and str(type_insure).strip() != \"\":\n",
    "            return f\"{app_type} {type_insure}\"\n",
    "        else:\n",
    "            return app_type\n",
    "\n",
    "    # ไม่มีอะไรเลย\n",
    "    return None\n",
    "\n",
    "# apply กลับ\n",
    "df_merged['chanel_key'] = df_merged.apply(fill_chanel_key, axis=1)\n",
    "df_merged"
   ]
  },
  {
   "cell_type": "code",
   "execution_count": null,
   "id": "c5a4b838",
   "metadata": {},
   "outputs": [],
   "source": [
    "df_merged['chanel_key'] = df_merged['chanel_key'].replace({\n",
    "    'B2B': 'APP B2B',\n",
    "    'WEB ตรอ': 'WEB VIF',\n",
    "    'TELE': 'APP TELE',\n",
    "    'APP-B2C': 'APP B2C',\n",
    "    'APP ประกันรถ' : 'APP B2B',\n",
    "    'WEB ประกันรถ': 'WEB'\n",
    "})\n",
    "df_merged"
   ]
  },
  {
   "cell_type": "code",
   "execution_count": null,
   "id": "5984c4e1",
   "metadata": {},
   "outputs": [],
   "source": [
    "df_merged.drop(columns=['type_key', 'app_type'], inplace=True)\n",
    "df_merged"
   ]
  },
  {
   "cell_type": "code",
   "execution_count": null,
   "id": "791765e1",
   "metadata": {},
   "outputs": [],
   "source": [
    "df_merged.rename(columns={\n",
    "    \"quo_num\": \"quotation_num\",\n",
    "    \"type_insure\": \"type_insurance\",\n",
    "    \"type_work\": \"order_type\",\n",
    "    \"type_status\": \"check_type\",\n",
    "    \"worksend\": \"work_type\",\n",
    "    \"chanel_key\": \"key_channel\"\n",
    "}, inplace=True)\n",
    "df_merged"
   ]
  },
  {
   "cell_type": "code",
   "execution_count": null,
   "id": "9a1252d8",
   "metadata": {},
   "outputs": [],
   "source": [
    "import numpy as np\n",
    "\n",
    "df_merged = df_merged.replace(r'^\\s*$', np.nan, regex=True)\n",
    "\n",
    "df_merged = df_merged.where(pd.notnull(df_merged), None)\n",
    "df_merged"
   ]
  },
  {
   "cell_type": "code",
   "execution_count": null,
   "id": "40eecc46",
   "metadata": {},
   "outputs": [],
   "source": [
    "import numpy as np\n",
    "\n",
    "# แปลงทุกคอลัมน์ใน df_merged1 ถ้ามีค่าเป็น string \"NAN\" ให้เปลี่ยนเป็น np.nan\n",
    "df_merged = df_merged.replace(\"NaN\", np.nan)\n",
    "df_merged"
   ]
  },
  {
   "cell_type": "code",
   "execution_count": null,
   "id": "07e7b50e",
   "metadata": {},
   "outputs": [],
   "source": [
    "df_merged = df_merged.drop_duplicates(subset=['quotation_num'], keep='first')\n",
    "df_merged"
   ]
  },
  {
   "cell_type": "markdown",
   "id": "e975a17e",
   "metadata": {},
   "source": [
    "db postgres update table quotation"
   ]
  },
  {
   "cell_type": "code",
   "execution_count": null,
   "id": "093a3f6c",
   "metadata": {},
   "outputs": [],
   "source": [
    "import pandas as pd\n",
    "import os\n",
    "from dotenv import load_dotenv\n",
    "from sqlalchemy import create_engine\n",
    "import numpy as np\n",
    "\n",
    "# โหลดตัวแปรจาก .env\n",
    "load_dotenv()\n",
    "\n",
    "# ดึงค่าจาก environment\n",
    "user = os.getenv('DB_USER_test')\n",
    "password = os.getenv('DB_PASSWORD_test')\n",
    "host = os.getenv('DB_HOST_test')\n",
    "port = os.getenv('DB_PORT_test')  \n",
    "database = 'fininsurance'\n",
    "\n",
    "# สร้าง engine สำหรับเชื่อมต่อฐานข้อมูล\n",
    "engine = create_engine(f'postgresql+psycopg2://{user}:{password}@{host}:{port}/{database}')\n",
    "\n",
    "# SQL query\n",
    "query = \"\"\"\n",
    "SELECT *\n",
    "FROM dim_order_type \n",
    "\"\"\"\n",
    "\n",
    "df5 = pd.read_sql(query, engine)\n",
    "df5"
   ]
  },
  {
   "cell_type": "code",
   "execution_count": null,
   "id": "86314b30",
   "metadata": {},
   "outputs": [],
   "source": [
    "df5 = df5.drop(columns=['create_at', 'update_at'])\n",
    "df5"
   ]
  },
  {
   "cell_type": "code",
   "execution_count": null,
   "id": "fc85a0cb",
   "metadata": {},
   "outputs": [],
   "source": [
    "df_result = pd.merge(df_merged, df5, on=['quotation_num'], how='right')\n",
    "df_result"
   ]
  },
  {
   "cell_type": "code",
   "execution_count": null,
   "id": "ac0380ca",
   "metadata": {},
   "outputs": [],
   "source": [
    "df_result = df_result[['quotation_num', 'order_type_id']]\n",
    "df_result"
   ]
  },
  {
   "cell_type": "code",
   "execution_count": null,
   "id": "0f099f0d",
   "metadata": {},
   "outputs": [],
   "source": [
    "import pandas as pd\n",
    "import os\n",
    "from dotenv import load_dotenv\n",
    "from sqlalchemy import create_engine\n",
    "import numpy as np\n",
    "\n",
    "# โหลดตัวแปรจาก .env\n",
    "load_dotenv()\n",
    "\n",
    "# ดึงค่าจาก environment\n",
    "user = os.getenv('DB_USER_test')\n",
    "password = os.getenv('DB_PASSWORD_test')\n",
    "host = os.getenv('DB_HOST_test')\n",
    "port = os.getenv('DB_PORT_test')  \n",
    "database = 'fininsurance'\n",
    "\n",
    "# สร้าง engine สำหรับเชื่อมต่อฐานข้อมูล\n",
    "engine = create_engine(f'postgresql+psycopg2://{user}:{password}@{host}:{port}/{database}')\n",
    "\n",
    "# SQL query\n",
    "query = \"\"\"\n",
    "SELECT *\n",
    "FROM fact_sales_quotation \n",
    "\"\"\"\n",
    "\n",
    "df6 = pd.read_sql(query, engine)\n",
    "df6"
   ]
  },
  {
   "cell_type": "code",
   "execution_count": null,
   "id": "a1971049",
   "metadata": {},
   "outputs": [],
   "source": [
    "df6 = df6.drop(columns=['create_at', 'update_at', 'order_type_id'])\n",
    "df6"
   ]
  },
  {
   "cell_type": "code",
   "execution_count": null,
   "id": "c9fabbe2",
   "metadata": {},
   "outputs": [],
   "source": [
    "df_result1 = pd.merge(df_result, df6, on=['quotation_num'], how='right')\n",
    "df_result1"
   ]
  },
  {
   "cell_type": "code",
   "execution_count": null,
   "id": "e05b1e98",
   "metadata": {},
   "outputs": [],
   "source": [
    "df_result1 = df_result1.drop_duplicates(subset=['quotation_num'], keep='last')\n",
    "df_result1"
   ]
  },
  {
   "cell_type": "code",
   "execution_count": null,
   "id": "09b617a1",
   "metadata": {},
   "outputs": [],
   "source": [
    "import numpy as np\n",
    "import pandas as pd\n",
    "\n",
    "# แก้ NaT, NaN ทั้ง dataframe ให้เป็น None\n",
    "df_result1 = df_result1.where(pd.notnull(df_result1), None)\n"
   ]
  },
  {
   "cell_type": "code",
   "execution_count": null,
   "id": "0f5949d4",
   "metadata": {},
   "outputs": [],
   "source": [
    "import os\n",
    "from sqlalchemy import create_engine, MetaData, Table, update\n",
    "from sqlalchemy import text\n",
    "\n",
    "user = os.getenv('DB_USER_test')\n",
    "password = os.getenv('DB_PASSWORD_test')\n",
    "host = os.getenv('DB_HOST_test')\n",
    "port = os.getenv('DB_PORT_test')\n",
    "database = 'fininsurance'\n",
    "\n",
    "engine = create_engine(f'postgresql+psycopg2://{user}:{password}@{host}:{port}/{database}')\n",
    "\n",
    "metadata = MetaData()\n",
    "table = Table('fact_sales_quotation', metadata, autoload_with=engine)\n",
    "\n",
    "records = df_result1.to_dict(orient='records')\n",
    "\n",
    "chunk_size = 5000\n",
    "\n",
    "for start in range(0, len(records), chunk_size):\n",
    "    end = start + chunk_size\n",
    "    chunk = records[start:end]\n",
    "\n",
    "    print(f\"🔄 Updating chunk {start // chunk_size + 1}: records {start} to {end - 1}\")\n",
    "\n",
    "    with engine.begin() as conn:\n",
    "        for record in chunk:\n",
    "            # ตรวจสอบว่ามี quotation_num และ order_type_id หรือไม่\n",
    "            if 'quotation_num' not in record or pd.isna(record['quotation_num']):\n",
    "                print(f\"⚠️ Skip row: no quotation_num: {record}\")\n",
    "                continue\n",
    "            if 'order_type_id' not in record or pd.isna(record['order_type_id']):\n",
    "                print(f\"⚠️ Skip row: no order_type_id: {record}\")\n",
    "                continue\n",
    "\n",
    "            # ✅ Update เฉพาะคอลัมน์เดียว\n",
    "            stmt = (\n",
    "                update(table)\n",
    "                .where(table.c.quotation_num == record['quotation_num'])\n",
    "                .values(order_type_id=record['order_type_id'])\n",
    "            )\n",
    "            conn.execute(stmt)\n",
    "\n",
    "print(\"✅ Update order_type_id completed successfully.\")\n",
    "\n",
    "# 🔥 ลบคอลัมน์ quotation_num ในตาราง dim_order_type\n",
    "with engine.begin() as conn:\n",
    "    conn.execute(text(\"ALTER TABLE dim_order_type DROP COLUMN quotation_num;\"))\n",
    "\n",
    "print(\"🗑️ ลบคอลัมน์ quotation_num ในตาราง dim_order_type เรียบร้อยแล้ว!\")"
   ]
  },
  {
   "cell_type": "code",
   "execution_count": null,
   "id": "7224f873",
   "metadata": {},
   "outputs": [],
   "source": []
  }
 ],
 "metadata": {
  "kernelspec": {
   "display_name": "Python 3",
   "language": "python",
   "name": "python3"
  },
  "language_info": {
   "codemirror_mode": {
    "name": "ipython",
    "version": 3
   },
   "file_extension": ".py",
   "mimetype": "text/x-python",
   "name": "python",
   "nbconvert_exporter": "python",
   "pygments_lexer": "ipython3",
   "version": "3.11.9"
  }
 },
 "nbformat": 4,
 "nbformat_minor": 5
}
