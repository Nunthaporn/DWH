{
 "cells": [
  {
   "cell_type": "code",
   "execution_count": null,
   "id": "abdde54e",
   "metadata": {},
   "outputs": [],
   "source": [
    "import pandas as pd\n",
    "import os\n",
    "from dotenv import load_dotenv\n",
    "from sqlalchemy import create_engine\n",
    "\n",
    "load_dotenv()  # อย่าลืมโหลด .env\n",
    "\n",
    "user = os.getenv('DB_USER')\n",
    "password = os.getenv('DB_PASSWORD')\n",
    "host = os.getenv('DB_HOST')\n",
    "port = os.getenv('DB_PORT')  \n",
    "database = 'fininsurance'\n",
    "\n",
    "engine = create_engine(f'mariadb+mariadbconnector://{user}:{password}@{host}:{port}/{database}')\n",
    "\n",
    "query = \"\"\"\n",
    "SELECT quo_num, id_motor1, id_motor2, datestart\n",
    "FROM fin_system_pay\n",
    "WHERE datestart >= '2025-05-01' AND datestart < '2025-07-01'\n",
    "AND type_insure IN ('ประกันรถ', 'ตรอ')\n",
    "\"\"\"\n",
    "\n",
    "df = pd.read_sql(query, engine)\n",
    "df\n"
   ]
  },
  {
   "cell_type": "code",
   "execution_count": null,
   "id": "c638d30f",
   "metadata": {},
   "outputs": [],
   "source": [
    "import pandas as pd\n",
    "import os\n",
    "from dotenv import load_dotenv\n",
    "from sqlalchemy import create_engine\n",
    "\n",
    "load_dotenv() \n",
    "\n",
    "user = os.getenv('DB_USER')\n",
    "password = os.getenv('DB_PASSWORD')\n",
    "host = os.getenv('DB_HOST')\n",
    "port = os.getenv('DB_PORT')  \n",
    "database = 'fininsurance'\n",
    "\n",
    "engine = create_engine(f'mariadb+mariadbconnector://{user}:{password}@{host}:{port}/{database}')\n",
    "\n",
    "query = \"\"\"\n",
    "SELECT quo_num, idcar, carprovince, camera, no_car, brandplan, seriesplan, sub_seriesplan, yearplan, detail_car, vehGroup, vehBodyTypeDesc, seatingCapacity, weight_car, cc_car, color_car, datestart\n",
    "FROM fin_system_select_plan\n",
    "WHERE datestart >= '2025-05-01' AND datestart < '2025-07-01'\n",
    "AND type_insure IN ('ประกันรถ', 'ตรอ')\n",
    "\"\"\"\n",
    "\n",
    "df1 = pd.read_sql(query, engine)\n",
    "df1\n"
   ]
  },
  {
   "cell_type": "code",
   "execution_count": null,
   "id": "117489c5",
   "metadata": {},
   "outputs": [],
   "source": [
    "df_merged = pd.merge(df, df1, on='quo_num', how='left')\n",
    "df_merged"
   ]
  },
  {
   "cell_type": "code",
   "execution_count": null,
   "id": "b055698c",
   "metadata": {},
   "outputs": [],
   "source": [
    "df_merged = df_merged.drop_duplicates(subset=['id_motor2'])\n",
    "df_merged"
   ]
  },
  {
   "cell_type": "code",
   "execution_count": null,
   "id": "7df95674",
   "metadata": {},
   "outputs": [],
   "source": [
    "df_merged = df_merged.drop_duplicates(subset=['idcar'])\n",
    "df_merged"
   ]
  },
  {
   "cell_type": "code",
   "execution_count": null,
   "id": "27b27b9c",
   "metadata": {},
   "outputs": [],
   "source": [
    "# df_merged = df_merged.drop(columns=['datestart_x', 'datestart_y', 'quo_num'])\n",
    "# df_merged"
   ]
  },
  {
   "cell_type": "code",
   "execution_count": null,
   "id": "b7eb019a",
   "metadata": {},
   "outputs": [],
   "source": [
    "df_merged = df_merged.drop(columns=['datestart_x', 'datestart_y'])\n",
    "df_merged"
   ]
  },
  {
   "cell_type": "code",
   "execution_count": null,
   "id": "5e545c18",
   "metadata": {},
   "outputs": [],
   "source": [
    "rename_columns = {\n",
    "    \"id_motor2\": \"car_id\",\n",
    "    \"id_motor1\": \"engine_number\",\n",
    "    \"idcar\": \"car_registration\",\n",
    "    \"carprovince\": \"car_province\",\n",
    "    \"camera\": \"camera\",\n",
    "    \"no_car\": \"car_no\",\n",
    "    \"brandplan\": \"car_brand\",\n",
    "    \"seriesplan\": \"car_series\",\n",
    "    \"sub_seriesplan\": \"car_subseries\",\n",
    "    \"yearplan\": \"car_year\",\n",
    "    \"detail_car\": \"car_detail\",\n",
    "    \"vehGroup\": \"vehicle_group\",\n",
    "    \"vehBodyTypeDesc\": \"vehBodyTypeDesc\",\n",
    "    \"seatingCapacity\": \"seat_count\",\n",
    "    \"weight_car\": \"vehicle_weight\",\n",
    "    \"cc_car\": \"engine_capacity\",\n",
    "    \"color_car\": \"vehicle_color\"\n",
    "}\n",
    "\n",
    "df = df_merged.rename(columns=rename_columns)\n",
    "df"
   ]
  },
  {
   "cell_type": "code",
   "execution_count": null,
   "id": "c0ba226d",
   "metadata": {},
   "outputs": [],
   "source": [
    "df = df.replace(r'^\\s*$', pd.NA, regex=True)  \n",
    "df = df[df.count(axis=1) > 1]\n",
    "df"
   ]
  },
  {
   "cell_type": "code",
   "execution_count": null,
   "id": "92c9fad1",
   "metadata": {},
   "outputs": [],
   "source": [
    "import pandas as pd\n",
    "import numpy as np\n",
    "\n",
    "# แปลงช่องว่างทุกแบบเป็น NaN ชั่วคราว เพื่อการนับข้อมูล\n",
    "df_temp = df.replace(r'^\\s*$', np.nan, regex=True)\n",
    "\n",
    "# เพิ่มคอลัมน์ช่วยนับจำนวนข้อมูล (non-null)\n",
    "df['non_empty_count'] = df_temp.notnull().sum(axis=1)\n",
    "\n",
    "# >>>> ส่วนที่แก้ไขตรงนี้ <<<<\n",
    "# ตรวจสอบ car_id ที่ไม่ว่าง (ไม่ใช่ NaN และไม่ใช่ช่องว่าง)\n",
    "valid_car_id_mask = df['car_id'].astype(str).str.strip().ne('') & df['car_id'].notna()\n",
    "\n",
    "# แยกกลุ่มที่ car_id ไม่ว่างและ car_id ว่าง\n",
    "df_with_id = df[valid_car_id_mask]\n",
    "df_without_id = df[~valid_car_id_mask]\n",
    "\n",
    "# คัดแถวที่ car_id ซ้ำ โดยเก็บแถวที่มีข้อมูลมากที่สุด\n",
    "df_with_id_cleaned = df_with_id.sort_values('non_empty_count', ascending=False).drop_duplicates(subset='car_id', keep='first')\n",
    "\n",
    "# รวมกลับ\n",
    "df_cleaned = pd.concat([df_with_id_cleaned, df_without_id], ignore_index=True)\n",
    "\n",
    "# ลบคอลัมน์ช่วย\n",
    "df_cleaned = df_cleaned.drop(columns=['non_empty_count'])\n",
    "df_cleaned = df_cleaned.replace(\n",
    "    to_replace=r'^\\s*$|(?i:^none$)|^-$',  # << แก้ตรงนี้\n",
    "    value=np.nan,\n",
    "    regex=True\n",
    ")\n",
    "\n",
    "\n",
    "df_cleaned.columns = df_cleaned.columns.str.lower()\n",
    "df_cleaned\n"
   ]
  },
  {
   "cell_type": "code",
   "execution_count": null,
   "id": "84f3b407",
   "metadata": {},
   "outputs": [],
   "source": [
    "df_cleaned.replace(np.nan, \"NaN\").isin([\"none\", \"-\", \"None\"]).sum()\n",
    "df_cleaned"
   ]
  },
  {
   "cell_type": "code",
   "execution_count": null,
   "id": "f6aecaa2",
   "metadata": {},
   "outputs": [],
   "source": [
    "df_cleaned = df_cleaned.replace(r'^\\.$', np.nan, regex=True)\n",
    "df_cleaned"
   ]
  },
  {
   "cell_type": "code",
   "execution_count": null,
   "id": "18a3e98c",
   "metadata": {},
   "outputs": [],
   "source": [
    "import numpy as np\n",
    "\n",
    "# แทนค่า \"อื่นๆ\" ด้วย np.nan\n",
    "df_cleaned['seat_count'] = df_cleaned['seat_count'].replace(\"อื่นๆ\", np.nan)\n",
    "\n",
    "# ถ้าคอลัมน์นี้ควรเป็นตัวเลขด้วย แปลง type เป็น numeric (optional)\n",
    "df_cleaned['seat_count'] = pd.to_numeric(df_cleaned['seat_count'], errors='coerce')\n",
    "df_cleaned"
   ]
  },
  {
   "cell_type": "code",
   "execution_count": null,
   "id": "a718218a",
   "metadata": {},
   "outputs": [],
   "source": [
    "province_list = [\n",
    "    \"กรุงเทพมหานคร\", \"กระบี่\", \"กาญจนบุรี\", \"กาฬสินธุ์\", \"กำแพงเพชร\",\n",
    "    \"ขอนแก่น\", \"จันทบุรี\", \"ฉะเชิงเทรา\", \"ชลบุรี\", \"ชัยนาท\", \"ชัยภูมิ\",\n",
    "    \"ชุมพร\", \"เชียงใหม่\", \"เชียงราย\", \"ตรัง\", \"ตราด\", \"ตาก\", \"นครนายก\",\n",
    "    \"นครปฐม\", \"นครพนม\", \"นครราชสีมา\", \"นครศรีธรรมราช\", \"นครสวรรค์\",\n",
    "    \"นนทบุรี\", \"นราธิวาส\", \"น่าน\", \"บึงกาฬ\", \"บุรีรัมย์\", \"ปทุมธานี\",\n",
    "    \"ประจวบคีรีขันธ์\", \"ปราจีนบุรี\", \"ปัตตานี\", \"พระนครศรีอยุธยา\",\n",
    "    \"พังงา\", \"พัทลุง\", \"พิจิตร\", \"พิษณุโลก\", \"เพชรบุรี\", \"เพชรบูรณ์\",\n",
    "    \"แพร่\", \"พะเยา\", \"ภูเก็ต\", \"มหาสารคาม\", \"มุกดาหาร\", \"แม่ฮ่องสอน\",\n",
    "    \"ยะลา\", \"ยโสธร\", \"ระนอง\", \"ระยอง\", \"ราชบุรี\", \"ร้อยเอ็ด\", \"ลพบุรี\",\n",
    "    \"ลำปาง\", \"ลำพูน\", \"เลย\", \"ศรีสะเกษ\", \"สกลนคร\", \"สงขลา\", \"สตูล\",\n",
    "    \"สมุทรปราการ\", \"สมุทรสงคราม\", \"สมุทรสาคร\", \"สระแก้ว\", \"สระบุรี\",\n",
    "    \"สิงห์บุรี\", \"สุโขทัย\", \"สุพรรณบุรี\", \"สุราษฎร์ธานี\", \"สุรินทร์\",\n",
    "    \"หนองคาย\", \"หนองบัวลำภู\", \"อ่างทอง\", \"อุดรธานี\", \"อุทัยธานี\",\n",
    "    \"อุตรดิตถ์\", \"อุบลราชธานี\", \"อำนาจเจริญ\"\n",
    "]\n"
   ]
  },
  {
   "cell_type": "code",
   "execution_count": null,
   "id": "4ab77ed9",
   "metadata": {},
   "outputs": [],
   "source": [
    "import re\n",
    "\n",
    "def extract_clean_plate(value):\n",
    "    if pd.isnull(value) or value.strip() == \"\":\n",
    "        return None\n",
    "\n",
    "    text = value.strip()\n",
    "\n",
    "    # ตัดด้วย / หรือ ///\n",
    "    text = re.split(r'[\\/]', text)[0].strip()\n",
    "\n",
    "    # ตัดข้อความหลัง space\n",
    "    parts = text.split()\n",
    "    if len(parts) > 0:\n",
    "        text = parts[0].strip()\n",
    "    else:\n",
    "        return None\n",
    "\n",
    "    # ลบชื่อจังหวัด\n",
    "    for prov in province_list:\n",
    "        if prov in text:\n",
    "            text = text.replace(prov, \"\").strip()\n",
    "\n",
    "    # ใช้ regex ตัดเฉพาะทะเบียนจริง\n",
    "    reg_match = re.match(r'^((?:\\d{1,2})?[ก-ฮ]{1,3}\\d{1,4})', text)\n",
    "    if reg_match:\n",
    "        final_plate = reg_match.group(1)\n",
    "\n",
    "        # ลบขีด (ถ้ามี)\n",
    "        final_plate = final_plate.replace('-', '')\n",
    "\n",
    "        # ถ้าเริ่มด้วยเลข 2 ตัว → ตัดตัวแรก\n",
    "        match_two_digits = re.match(r'^(\\d{2})([ก-ฮ].*)$', final_plate)\n",
    "        if match_two_digits:\n",
    "            final_plate = match_two_digits.group(1)[1:] + match_two_digits.group(2)\n",
    "\n",
    "        # หลังจากนั้น ถ้ายังขึ้นต้นด้วย 0 → ตัดออก\n",
    "        if final_plate.startswith(\"0\"):\n",
    "            final_plate = final_plate[1:]\n",
    "\n",
    "        return final_plate\n",
    "    else:\n",
    "        return None\n",
    "\n",
    "# Apply ฟังก์ชันใหม่ไปที่คอลัมน์ car_registration\n",
    "df_cleaned['car_registration'] = df_cleaned['car_registration'].apply(extract_clean_plate)\n",
    "\n",
    "df_cleaned\n"
   ]
  },
  {
   "cell_type": "code",
   "execution_count": null,
   "id": "1834c375",
   "metadata": {},
   "outputs": [],
   "source": []
  },
  {
   "cell_type": "markdown",
   "id": "812b0327",
   "metadata": {},
   "source": [
    "db postgres update table quotation"
   ]
  },
  {
   "cell_type": "code",
   "execution_count": null,
   "id": "3eacfe0f",
   "metadata": {},
   "outputs": [],
   "source": [
    "import pandas as pd\n",
    "import os\n",
    "from dotenv import load_dotenv\n",
    "from sqlalchemy import create_engine\n",
    "import numpy as np\n",
    "\n",
    "# โหลดตัวแปรจาก .env\n",
    "load_dotenv()\n",
    "\n",
    "# ดึงค่าจาก environment\n",
    "user = os.getenv('DB_USER_test')\n",
    "password = os.getenv('DB_PASSWORD_test')\n",
    "host = os.getenv('DB_HOST_test')\n",
    "port = os.getenv('DB_PORT_test')  \n",
    "database = 'fininsurance'\n",
    "\n",
    "# สร้าง engine สำหรับเชื่อมต่อฐานข้อมูล\n",
    "engine = create_engine(f'postgresql+psycopg2://{user}:{password}@{host}:{port}/{database}')\n",
    "\n",
    "# SQL query\n",
    "query = \"\"\"\n",
    "SELECT *\n",
    "FROM dim_car \n",
    "\"\"\"\n",
    "\n",
    "df5 = pd.read_sql(query, engine)\n",
    "df5"
   ]
  },
  {
   "cell_type": "code",
   "execution_count": null,
   "id": "68bdff1b",
   "metadata": {},
   "outputs": [],
   "source": [
    "df5 = df5.drop(columns=['create_at', 'update_at'])\n",
    "df5"
   ]
  },
  {
   "cell_type": "code",
   "execution_count": null,
   "id": "d1643baf",
   "metadata": {},
   "outputs": [],
   "source": [
    "df_cleaned['car_year'] = df_cleaned['car_year'].astype('Int64')\n",
    "df5['car_year'] = df5['car_year'].astype('Int64')"
   ]
  },
  {
   "cell_type": "code",
   "execution_count": null,
   "id": "faaa7c4b",
   "metadata": {},
   "outputs": [],
   "source": [
    "import numpy as np\n",
    "\n",
    "df5 = df5.replace([\"NaN\", \"NAN\", \"nan\"], np.nan)\n",
    "df_cleaned = df_cleaned.replace([\"NaN\", \"NAN\", \"nan\"], np.nan)"
   ]
  },
  {
   "cell_type": "code",
   "execution_count": null,
   "id": "d21255bc",
   "metadata": {},
   "outputs": [],
   "source": [
    "fix_cols = ['vehicle_group', 'vehicle_weight', 'engine_capacity']\n",
    "\n",
    "for col in fix_cols:\n",
    "    df_cleaned[col] = df_cleaned[col].astype(str).replace('nan', pd.NA)\n",
    "    df5[col] = df5[col].astype(str).replace('nan', pd.NA)\n"
   ]
  },
  {
   "cell_type": "code",
   "execution_count": null,
   "id": "1dba9537",
   "metadata": {},
   "outputs": [],
   "source": [
    "# df_concat = pd.concat([df_cleaned.reset_index(drop=True), df5[['car_sk']].reset_index(drop=True)], axis=1)\n",
    "# df_concat"
   ]
  },
  {
   "cell_type": "code",
   "execution_count": null,
   "id": "401e3adc",
   "metadata": {},
   "outputs": [],
   "source": [
    "df_result = pd.merge(df_cleaned, df5, on=['car_id', 'car_registration'], how='right')\n",
    "df_result"
   ]
  },
  {
   "cell_type": "code",
   "execution_count": null,
   "id": "dac3a382",
   "metadata": {},
   "outputs": [],
   "source": [
    "df_result = df_result[['quo_num', 'car_sk']]\n",
    "df_result"
   ]
  },
  {
   "cell_type": "code",
   "execution_count": null,
   "id": "43357e33",
   "metadata": {},
   "outputs": [],
   "source": [
    "df_result = df_result.rename(columns={'quo_num': 'quotation_num'})\n",
    "df_result"
   ]
  },
  {
   "cell_type": "code",
   "execution_count": null,
   "id": "b732c59b",
   "metadata": {},
   "outputs": [],
   "source": [
    "# df_result.to_excel('test1.xlsx', index=False, engine='openpyxl')"
   ]
  },
  {
   "cell_type": "code",
   "execution_count": null,
   "id": "3fc52967",
   "metadata": {},
   "outputs": [],
   "source": [
    "import pandas as pd\n",
    "import os\n",
    "from dotenv import load_dotenv\n",
    "from sqlalchemy import create_engine\n",
    "import numpy as np\n",
    "\n",
    "# โหลดตัวแปรจาก .env\n",
    "load_dotenv()\n",
    "\n",
    "# ดึงค่าจาก environment\n",
    "user = os.getenv('DB_USER_test')\n",
    "password = os.getenv('DB_PASSWORD_test')\n",
    "host = os.getenv('DB_HOST_test')\n",
    "port = os.getenv('DB_PORT_test')  \n",
    "database = 'fininsurance'\n",
    "\n",
    "# สร้าง engine สำหรับเชื่อมต่อฐานข้อมูล\n",
    "engine = create_engine(f'postgresql+psycopg2://{user}:{password}@{host}:{port}/{database}')\n",
    "\n",
    "# SQL query\n",
    "query = \"\"\"\n",
    "SELECT *\n",
    "FROM fact_sales_quotation \n",
    "\"\"\"\n",
    "\n",
    "df6 = pd.read_sql(query, engine)\n",
    "df6"
   ]
  },
  {
   "cell_type": "code",
   "execution_count": null,
   "id": "c3f1696e",
   "metadata": {},
   "outputs": [],
   "source": [
    "df6 = df6.drop(columns=['create_at', 'update_at', 'car_id'])\n",
    "df6"
   ]
  },
  {
   "cell_type": "code",
   "execution_count": null,
   "id": "9700d11a",
   "metadata": {},
   "outputs": [],
   "source": [
    "# df6 = df6.drop(columns=['car_id'])\n",
    "# df6"
   ]
  },
  {
   "cell_type": "code",
   "execution_count": null,
   "id": "a12da9c7",
   "metadata": {},
   "outputs": [],
   "source": [
    "df_result1 = pd.merge(df_result, df6, on=['quotation_num'], how='right')\n",
    "df_result1"
   ]
  },
  {
   "cell_type": "code",
   "execution_count": null,
   "id": "df94d907",
   "metadata": {},
   "outputs": [],
   "source": [
    "df_result1 = df_result1.rename(columns={'car_sk': 'car_id'})\n",
    "df_result1"
   ]
  },
  {
   "cell_type": "code",
   "execution_count": null,
   "id": "9b724699",
   "metadata": {},
   "outputs": [],
   "source": [
    "df_result1 = df_result1.drop_duplicates(subset=['quotation_num'], keep='last')\n",
    "df_result1"
   ]
  },
  {
   "cell_type": "code",
   "execution_count": null,
   "id": "6eba0d26",
   "metadata": {},
   "outputs": [],
   "source": [
    "import numpy as np\n",
    "import pandas as pd\n",
    "\n",
    "# แก้ NaT, NaN ทั้ง dataframe ให้เป็น None\n",
    "df_result1 = df_result1.where(pd.notnull(df_result1), None)\n"
   ]
  },
  {
   "cell_type": "code",
   "execution_count": null,
   "id": "8de6bc33",
   "metadata": {},
   "outputs": [],
   "source": [
    "# datetime_cols = df_result1.select_dtypes(include=[\"datetime\", \"datetimetz\"]).columns\n",
    "\n",
    "# for col in datetime_cols:\n",
    "#     df_result1[col] = df_result1[col].astype(str).replace(\"NaT\", None)\n"
   ]
  },
  {
   "cell_type": "code",
   "execution_count": null,
   "id": "862ec8b1",
   "metadata": {},
   "outputs": [],
   "source": [
    "import os\n",
    "from sqlalchemy import create_engine, MetaData, Table, update\n",
    "\n",
    "user = os.getenv('DB_USER_test')\n",
    "password = os.getenv('DB_PASSWORD_test')\n",
    "host = os.getenv('DB_HOST_test')\n",
    "port = os.getenv('DB_PORT_test')\n",
    "database = 'fininsurance'\n",
    "\n",
    "engine = create_engine(f'postgresql+psycopg2://{user}:{password}@{host}:{port}/{database}')\n",
    "\n",
    "metadata = MetaData()\n",
    "table = Table('fact_sales_quotation', metadata, autoload_with=engine)\n",
    "\n",
    "records = df_result1.to_dict(orient='records')\n",
    "\n",
    "chunk_size = 5000\n",
    "\n",
    "for start in range(0, len(records), chunk_size):\n",
    "    end = start + chunk_size\n",
    "    chunk = records[start:end]\n",
    "\n",
    "    print(f\"🔄 Updating chunk {start // chunk_size + 1}: records {start} to {end - 1}\")\n",
    "\n",
    "    with engine.begin() as conn:\n",
    "        for record in chunk:\n",
    "            # ตรวจสอบว่ามี quotation_num และ car_id หรือไม่\n",
    "            if 'quotation_num' not in record or pd.isna(record['quotation_num']):\n",
    "                print(f\"⚠️ Skip row: no quotation_num: {record}\")\n",
    "                continue\n",
    "            if 'car_id' not in record or pd.isna(record['car_id']):\n",
    "                print(f\"⚠️ Skip row: no car_id: {record}\")\n",
    "                continue\n",
    "\n",
    "            # ✅ Update เฉพาะคอลัมน์เดียว\n",
    "            stmt = (\n",
    "                update(table)\n",
    "                .where(table.c.quotation_num == record['quotation_num'])\n",
    "                .values(car_id=record['car_id'])\n",
    "            )\n",
    "            conn.execute(stmt)\n",
    "\n",
    "print(\"✅ Update car_id completed successfully.\")"
   ]
  },
  {
   "cell_type": "code",
   "execution_count": null,
   "id": "2e24a893",
   "metadata": {},
   "outputs": [],
   "source": [
    "# df_result1.to_excel('test.xlsx', index=False, engine='openpyxl')"
   ]
  },
  {
   "cell_type": "code",
   "execution_count": null,
   "id": "aae84918",
   "metadata": {},
   "outputs": [],
   "source": []
  }
 ],
 "metadata": {
  "kernelspec": {
   "display_name": "Python 3",
   "language": "python",
   "name": "python3"
  },
  "language_info": {
   "codemirror_mode": {
    "name": "ipython",
    "version": 3
   },
   "file_extension": ".py",
   "mimetype": "text/x-python",
   "name": "python",
   "nbconvert_exporter": "python",
   "pygments_lexer": "ipython3",
   "version": "3.11.9"
  }
 },
 "nbformat": 4,
 "nbformat_minor": 5
}
