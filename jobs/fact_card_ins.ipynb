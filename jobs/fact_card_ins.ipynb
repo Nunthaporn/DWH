{
 "cells": [
  {
   "cell_type": "code",
   "execution_count": null,
   "id": "abdde54e",
   "metadata": {},
   "outputs": [],
   "source": [
    "import pandas as pd\n",
    "import os\n",
    "from dotenv import load_dotenv\n",
    "from sqlalchemy import create_engine\n",
    "import numpy as np\n",
    "\n",
    "# โหลดตัวแปรจาก .env\n",
    "load_dotenv()\n",
    "\n",
    "# ดึงค่าจาก environment\n",
    "user = os.getenv('DB_USER')\n",
    "password = os.getenv('DB_PASSWORD')\n",
    "host = os.getenv('DB_HOST')\n",
    "port = os.getenv('DB_PORT')  \n",
    "database = 'fininsurance'\n",
    "\n",
    "# สร้าง engine สำหรับเชื่อมต่อฐานข้อมูล\n",
    "engine = create_engine(f'mariadb+mariadbconnector://{user}:{password}@{host}:{port}/{database}')\n",
    "\n",
    "# SQL query\n",
    "query = \"\"\"\n",
    "SELECT cuscode, name,\n",
    "       CASE \n",
    "       WHEN user_registered = '0000-00-00 00:00:00.000' THEN '2000-01-01 00:00:00'\n",
    "         ELSE user_registered \n",
    "       END AS user_registered,\n",
    "       idcard, card_ins,card_ins_id,card_ins_type,card_ins_life,card_ins_type_life,file_card_ins_life,card_ins_start,card_ins_exp,\n",
    "       card_ins_life_exp,is_move_card_ins\n",
    "FROM wp_users WHERE user_login NOT IN ('FINTEST-01', 'FIN-TestApp', 'Admin-VIF', 'adminmag_fin', 'FNG00-00001')\n",
    "\n",
    "\n",
    "\"\"\"\n",
    "\n",
    "\n",
    "# โหลดข้อมูลจากฐานข้อมูล\n",
    "df_merged = pd.read_sql(query, engine)\n",
    "\n",
    "# แปลงให้ pandas เข้าใจได้แน่นอน\n",
    "df_merged['user_registered'] = pd.to_datetime(df_merged['user_registered'].astype(str), errors='coerce')\n",
    "df_merged\n"
   ]
  },
  {
   "cell_type": "code",
   "execution_count": null,
   "id": "23981748",
   "metadata": {},
   "outputs": [],
   "source": [
    "df_merged = df_merged.drop(columns=['user_registered'])"
   ]
  },
  {
   "cell_type": "code",
   "execution_count": null,
   "id": "7f639c84",
   "metadata": {},
   "outputs": [],
   "source": [
    "for col in df_merged.columns:\n",
    "    print(col)\n"
   ]
  },
  {
   "cell_type": "code",
   "execution_count": null,
   "id": "5e545c18",
   "metadata": {},
   "outputs": [],
   "source": [
    "rename_columns = {\n",
    "    \"cuscode\": \"agent_id\",\n",
    "    \"name\": \"agent_name\",\n",
    "    \"idcard\": \"id_card\",\n",
    "    \"card_ins\": \"card_ins\",\n",
    "    \"card_ins_id\": \"card_ins_id\",\n",
    "    \"card_ins_type\": \"card_ins_type\",\n",
    "    \"card_ins_life\": \"card_ins_life\",\n",
    "    \"card_ins_type_life\": \"card_ins_type_life\",\n",
    "    \"file_card_ins_life\": \"file_card_ins_life\",\n",
    "    \"card_ins_start\": \"card_ins_start\",\n",
    "    \"card_ins_exp\": \"card_ins_exp\",\n",
    "    \"card_ins_life_exp\": \"card_ins_life_exp\",\n",
    "    \"is_move_card_ins\": \"is_move_card_ins\"\n",
    "\n",
    "}\n",
    "\n",
    "df = df_merged.rename(columns=rename_columns)\n",
    "df"
   ]
  },
  {
   "cell_type": "code",
   "execution_count": null,
   "id": "409943fc",
   "metadata": {},
   "outputs": [],
   "source": [
    "for col in df.columns:\n",
    "    print(col)"
   ]
  },
  {
   "cell_type": "code",
   "execution_count": null,
   "id": "8e94d1fb",
   "metadata": {},
   "outputs": [],
   "source": [
    "df['card_ins_exp'].unique()\n"
   ]
  },
  {
   "cell_type": "code",
   "execution_count": null,
   "id": "8b893e35",
   "metadata": {},
   "outputs": [],
   "source": [
    "import pandas as pd\n",
    "\n",
    "def convert_thai_to_ad(date_str):\n",
    "    try:\n",
    "        if pd.isna(date_str) or date_str == '':\n",
    "            return None\n",
    "        day, month, year = map(int, date_str.split('-'))\n",
    "        if year > 2500:\n",
    "            year -= 543\n",
    "        return f\"{year:04d}-{month:02d}-{day:02d}\"\n",
    "    except:\n",
    "        return None\n",
    "\n",
    "# แปลงทั้งสองคอลัมน์\n",
    "df['card_ins_start'] = df['card_ins_start'].apply(convert_thai_to_ad)"
   ]
  },
  {
   "cell_type": "code",
   "execution_count": null,
   "id": "04ad6e1a",
   "metadata": {},
   "outputs": [],
   "source": [
    "df['card_ins_start'] = pd.to_datetime(df['card_ins_start'], errors='coerce')\n"
   ]
  },
  {
   "cell_type": "code",
   "execution_count": null,
   "id": "7afa4488",
   "metadata": {},
   "outputs": [],
   "source": [
    "import pandas as pd\n",
    "\n",
    "def convert_thai_to_ad(date_str):\n",
    "    try:\n",
    "        if pd.isna(date_str) or date_str == '':\n",
    "            return None\n",
    "        day, month, year = map(int, date_str.split('-'))\n",
    "        if year > 2500:\n",
    "            year -= 543\n",
    "        return f\"{year:04d}-{month:02d}-{day:02d}\"\n",
    "    except:\n",
    "        return None\n",
    "\n",
    "# ใช้กับคอลัมน์ card_ins_exp\n",
    "df['card_ins_exp'] = df['card_ins_exp'].apply(convert_thai_to_ad)\n",
    "\n",
    "# แปลงเป็น datetime ถ้าต้องการ\n",
    "df['card_ins_exp'] = pd.to_datetime(df['card_ins_exp'], errors='coerce')\n"
   ]
  },
  {
   "cell_type": "code",
   "execution_count": null,
   "id": "a862427b-0027-4288-8f09-51a59b088f8a",
   "metadata": {},
   "outputs": [],
   "source": [
    "df['card_ins_type_life'] = df['card_ins_type_life'].apply(\n",
    "    lambda x: 'B' if isinstance(x, str) and 'แทน' in x else x\n",
    ")\n"
   ]
  },
  {
   "cell_type": "code",
   "execution_count": null,
   "id": "d6eeecf5",
   "metadata": {},
   "outputs": [],
   "source": []
  },
  {
   "cell_type": "code",
   "execution_count": null,
   "id": "c0ba226d",
   "metadata": {},
   "outputs": [],
   "source": [
    "df = df.replace(r'^\\s*$', pd.NA, regex=True)  \n",
    "df = df[df.count(axis=1) > 1]\n",
    "df"
   ]
  },
  {
   "cell_type": "code",
   "execution_count": null,
   "id": "92c9fad1",
   "metadata": {},
   "outputs": [],
   "source": [
    "import pandas as pd\n",
    "import numpy as np\n",
    "\n",
    "# แปลงช่องว่างทุกแบบเป็น NaN ชั่วคราว เพื่อการนับข้อมูล\n",
    "df_temp = df.replace(r'^\\s*$', np.nan, regex=True)\n",
    "\n",
    "# เพิ่มคอลัมน์ช่วยนับจำนวนข้อมูล (non-null)\n",
    "df['non_empty_count'] = df_temp.notnull().sum(axis=1)\n",
    "\n",
    "# >>>> ส่วนที่แก้ไขตรงนี้ <<<<\n",
    "# ตรวจสอบ agent_id ที่ไม่ว่าง (ไม่ใช่ NaN และไม่ใช่ช่องว่าง)\n",
    "valid_agent_id_mask = df['agent_id'].astype(str).str.strip().ne('') & df['agent_id'].notna()\n",
    "\n",
    "# แยกกลุ่มที่ agent_id ไม่ว่างและ agent_id ว่าง\n",
    "df_with_id = df[valid_agent_id_mask]\n",
    "df_without_id = df[~valid_agent_id_mask]\n",
    "\n",
    "# คัดแถวที่ agent_id ซ้ำ โดยเก็บแถวที่มีข้อมูลมากที่สุด\n",
    "df_with_id_cleaned = df_with_id.sort_values('non_empty_count', ascending=False).drop_duplicates(subset='agent_id', keep='first')\n",
    "\n",
    "# รวมกลับ\n",
    "df_cleaned = pd.concat([df_with_id_cleaned, df_without_id], ignore_index=True)\n",
    "\n",
    "# ลบคอลัมน์ช่วย\n",
    "df_cleaned = df_cleaned.drop(columns=['non_empty_count'])\n",
    "df_cleaned = df_cleaned.replace(\n",
    "    to_replace=r'^\\s*$|(?i:^none$)|^-$',  # << แก้ตรงนี้\n",
    "    value=np.nan,\n",
    "    regex=True\n",
    ")\n",
    "\n",
    "\n",
    "df_cleaned.columns = df_cleaned.columns.str.lower()\n",
    "df_cleaned\n"
   ]
  },
  {
   "cell_type": "code",
   "execution_count": null,
   "id": "84f3b407",
   "metadata": {},
   "outputs": [],
   "source": [
    "df_cleaned.replace(np.nan, \"NaN\").isin([\"none\", \"-\", \"None\"]).sum()\n",
    "df_cleaned"
   ]
  },
  {
   "cell_type": "code",
   "execution_count": null,
   "id": "630c65ef",
   "metadata": {},
   "outputs": [],
   "source": [
    "# df.to_csv('dim_car3.csv', index=False)"
   ]
  },
  {
   "cell_type": "code",
   "execution_count": null,
   "id": "f6aecaa2",
   "metadata": {},
   "outputs": [],
   "source": [
    "df_cleaned = df_cleaned.replace(r'^\\.$', np.nan, regex=True)\n",
    "df_cleaned"
   ]
  },
  {
   "cell_type": "code",
   "execution_count": null,
   "id": "aacab705-c944-4fb7-983f-bffddceab713",
   "metadata": {},
   "outputs": [],
   "source": [
    "for col in df_cleaned.columns:\n",
    "    print(col)"
   ]
  },
  {
   "cell_type": "code",
   "execution_count": null,
   "id": "b20c79f0",
   "metadata": {},
   "outputs": [],
   "source": [
    "import numpy as np\n",
    "\n",
    "# แปลง hire_date เป็น epoch\n",
    "df_cleaned[\"hire_date\"] = pd.to_datetime(df_cleaned[\"hire_date\"], errors='coerce')\n",
    "df_cleaned[\"hire_date\"] = df_cleaned[\"hire_date\"].astype('int64') // 10**9\n",
    "\n",
    "# ถ้าต้องการให้ NaN เป็น None สำหรับ SQLAlchemy\n",
    "df_cleaned[\"hire_date\"] = df_cleaned[\"hire_date\"].where(df_cleaned[\"hire_date\"].notnull(), None)\n"
   ]
  },
  {
   "cell_type": "code",
   "execution_count": null,
   "id": "f6a2e1f5",
   "metadata": {},
   "outputs": [],
   "source": [
    "# ถ้ามี NaN ให้เติมเป็น 0 ก่อน\n",
    "df_cleaned['is_move_card_ins'] = df_cleaned['is_move_card_ins'].fillna(0)\n",
    "\n",
    "# แปลงจาก float → int\n",
    "df_cleaned['is_move_card_ins'] = df_cleaned['is_move_card_ins'].astype(int)\n",
    "\n",
    "# แปลงจาก int → bool\n",
    "df_cleaned['is_move_card_ins'] = df_cleaned['is_move_card_ins'].astype(bool)\n",
    "\n",
    "# ตรวจสอบผลลัพธ์ก่อนส่ง\n",
    "print(df_cleaned['is_move_card_ins'].dtype)\n",
    "print(df_cleaned['is_move_card_ins'].unique())\n"
   ]
  },
  {
   "cell_type": "code",
   "execution_count": null,
   "id": "b62772e7",
   "metadata": {},
   "outputs": [],
   "source": [
    "df_cleaned = df_cleaned.replace(r'^\\s*$', np.nan, regex=True)\n"
   ]
  },
  {
   "cell_type": "markdown",
   "id": "6f6d52a7",
   "metadata": {},
   "source": [
    "อาจจะมีปัญหา \n",
    "    |\n",
    "    V"
   ]
  },
  {
   "cell_type": "code",
   "execution_count": null,
   "id": "1c681678",
   "metadata": {},
   "outputs": [],
   "source": [
    "df_cleaned.rename(columns={'agent_id': 'card_ins_id'}, inplace=True)\n"
   ]
  },
  {
   "cell_type": "code",
   "execution_count": null,
   "id": "6522f15b",
   "metadata": {},
   "outputs": [],
   "source": [
    "import pandas as pd\n",
    "import os\n",
    "from sqlalchemy import create_engine\n",
    "from dotenv import load_dotenv\n",
    "\n",
    "load_dotenv()\n",
    "\n",
    "host = os.getenv('DB_HOST_test')\n",
    "user = os.getenv('DB_USER_test')\n",
    "password = os.getenv('DB_PASSWORD_test')\n",
    "port = os.getenv('DB_PORT_test')\n",
    "database = 'fininsurance'  \n",
    "\n",
    "engine = create_engine(f'postgresql+psycopg2://{user}:{password}@{host}:{port}/{database}')\n",
    "rows_inserted = df_cleaned.to_sql('fact_card_ins', engine, if_exists='append', index=False)\n"
   ]
  },
  {
   "cell_type": "code",
   "execution_count": null,
   "id": "1cab3719",
   "metadata": {},
   "outputs": [],
   "source": [
    "# ตรวจสอบความยาวสูงสุดทุกคอลัมน์\n",
    "for col in df_cleaned.columns:\n",
    "    if df_cleaned[col].dtype == object:\n",
    "        max_len = df_cleaned[col].astype(str).map(len).max()\n",
    "        print(f\"{col}: max length = {max_len}\")\n"
   ]
  }
 ],
 "metadata": {
  "kernelspec": {
   "display_name": "Python 3",
   "language": "python",
   "name": "python3"
  },
  "language_info": {
   "codemirror_mode": {
    "name": "ipython",
    "version": 3
   },
   "file_extension": ".py",
   "mimetype": "text/x-python",
   "name": "python",
   "nbconvert_exporter": "python",
   "pygments_lexer": "ipython3",
   "version": "3.11.9"
  }
 },
 "nbformat": 4,
 "nbformat_minor": 5
}
