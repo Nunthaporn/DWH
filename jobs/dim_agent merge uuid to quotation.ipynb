{
 "cells": [
  {
   "cell_type": "code",
   "execution_count": null,
   "id": "abdde54e",
   "metadata": {},
   "outputs": [],
   "source": [
    "import pandas as pd\n",
    "import os\n",
    "from dotenv import load_dotenv\n",
    "from sqlalchemy import create_engine\n",
    "import numpy as np\n",
    "\n",
    "# โหลดตัวแปรจาก .env\n",
    "load_dotenv()\n",
    "\n",
    "# ดึงค่าจาก environment\n",
    "user = os.getenv('DB_USER')\n",
    "password = os.getenv('DB_PASSWORD')\n",
    "host = os.getenv('DB_HOST')\n",
    "port = os.getenv('DB_PORT')  \n",
    "database = 'fininsurance'\n",
    "\n",
    "# สร้าง engine สำหรับเชื่อมต่อฐานข้อมูล\n",
    "engine = create_engine(f'mariadb+mariadbconnector://{user}:{password}@{host}:{port}/{database}')\n",
    "\n",
    "# SQL query\n",
    "query = \"\"\"\n",
    "SELECT cuscode, name, rank,\n",
    "       CASE \n",
    "       WHEN user_registered = '0000-00-00 00:00:00.000' THEN '2000-01-01 00:00:00'\n",
    "         ELSE user_registered \n",
    "       END AS user_registered,\n",
    "       status, fin_new_group, fin_new_mem,\n",
    "       type_agent, typebuy, user_email, name_store, address, city, district,\n",
    "       province, province_cur, area_cur, postcode, tel,date_active\n",
    "FROM wp_users\n",
    "\"\"\"\n",
    "\n",
    "\n",
    "# โหลดข้อมูลจากฐานข้อมูล\n",
    "df = pd.read_sql(query, engine)\n",
    "\n",
    "# แปลงให้ pandas เข้าใจได้แน่นอน\n",
    "df['user_registered'] = pd.to_datetime(df['user_registered'].astype(str), errors='coerce')\n",
    "df\n"
   ]
  },
  {
   "cell_type": "code",
   "execution_count": null,
   "id": "c638d30f",
   "metadata": {},
   "outputs": [],
   "source": [
    "import pandas as pd\n",
    "import os\n",
    "from dotenv import load_dotenv\n",
    "from sqlalchemy import create_engine\n",
    "\n",
    "load_dotenv() \n",
    "\n",
    "user = os.getenv('DB_USER')\n",
    "password = os.getenv('DB_PASSWORD')\n",
    "host = os.getenv('DB_HOST')\n",
    "port = os.getenv('DB_PORT')  \n",
    "database = 'fininsurance'\n",
    "\n",
    "engine = create_engine(f'mariadb+mariadbconnector://{user}:{password}@{host}:{port}/{database}')\n",
    "\n",
    "query = \"\"\"\n",
    "SELECT cuscode , career\n",
    "FROM policy_register\n",
    "\"\"\"\n",
    "\n",
    "df1 = pd.read_sql(query, engine)\n",
    "df1\n"
   ]
  },
  {
   "cell_type": "code",
   "execution_count": null,
   "id": "117489c5",
   "metadata": {},
   "outputs": [],
   "source": [
    "df_merged = pd.merge(df, df1, on='cuscode', how='left')\n",
    "df_merged"
   ]
  },
  {
   "cell_type": "code",
   "execution_count": null,
   "id": "d3c11f3d",
   "metadata": {},
   "outputs": [],
   "source": [
    "def combine_columns(a, b):\n",
    "    a_str = str(a).strip() if pd.notna(a) else ''\n",
    "    b_str = str(b).strip() if pd.notna(b) else ''\n",
    "    \n",
    "    if a_str == '' and b_str == '':\n",
    "        return ''\n",
    "    elif a_str == '':\n",
    "        return b_str\n",
    "    elif b_str == '':\n",
    "        return a_str\n",
    "    elif a_str == b_str:\n",
    "        return a_str\n",
    "    else:\n",
    "        return f\"{a_str} + {b_str}\"\n",
    "\n",
    "df_merged['agent_region'] = df_merged.apply(lambda row: combine_columns(row['fin_new_group'], row['fin_new_mem']), axis=1)\n"
   ]
  },
  {
   "cell_type": "code",
   "execution_count": null,
   "id": "cfeefa75",
   "metadata": {},
   "outputs": [],
   "source": [
    "df_merged = df_merged.drop(columns=['fin_new_group','fin_new_mem'])\n",
    "df_merged"
   ]
  },
  {
   "cell_type": "code",
   "execution_count": null,
   "id": "84aeb643-be3a-41e3-9fe4-7db5714d2b0b",
   "metadata": {},
   "outputs": [],
   "source": [
    "df_merged['date_active'] = pd.to_datetime(df_merged['date_active'], errors='coerce')\n"
   ]
  },
  {
   "cell_type": "code",
   "execution_count": null,
   "id": "6dc5c213-c89c-419e-bc65-2005c7a7615c",
   "metadata": {},
   "outputs": [],
   "source": [
    "import pandas as pd\n",
    "from datetime import datetime, timedelta\n",
    "\n",
    "# สมมติ df_cleaned คือ DataFrame ที่มี date_active และ status\n",
    "now = pd.Timestamp.now()\n",
    "one_month_ago = now - pd.DateOffset(months=1)\n",
    "\n",
    "def check_condition(row):\n",
    "    if row['status'] == 'defect':\n",
    "        return 'inactive'\n",
    "    elif pd.notnull(row['date_active']) and row['date_active'] < one_month_ago:\n",
    "        return 'inactive'\n",
    "    else:\n",
    "        return 'active'\n",
    "\n",
    "df_merged['status_agent'] = df_merged.apply(check_condition, axis=1)\n"
   ]
  },
  {
   "cell_type": "code",
   "execution_count": null,
   "id": "d5f7c3a1-b94c-4581-8674-8f7e485935c4",
   "metadata": {},
   "outputs": [],
   "source": [
    "df_merged = df_merged.drop(columns=['status','date_active'])"
   ]
  },
  {
   "cell_type": "code",
   "execution_count": null,
   "id": "5e545c18",
   "metadata": {},
   "outputs": [],
   "source": [
    "rename_columns = {\n",
    "    \"cuscode\": \"agent_id\",\n",
    "    \"name\": \"agent_name\",\n",
    "    \"rank\": \"agent_rank\",\n",
    "    \"user_registered\": \"hire_date\",\n",
    "    \"status_agent\": \"status_agent\",\n",
    "    \"type_agent\": \"type_agent\",\n",
    "    \"typebuy\": \"is_experienced\",\n",
    "    \"user_email\": \"agent_email\",\n",
    "    \"name_store\": \"store_name\",\n",
    "    \"address\": \"agent_address\",\n",
    "    \"city\": \"subdistrict\",\n",
    "    \"district\": \"district\",\n",
    "    \"province\": \"province\",\n",
    "    \"province_cur\": \"current_province\",\n",
    "    \"area_cur\": \"current_area\",\n",
    "    \"postcode\": \"zipcode\",\n",
    "    \"tel\": \"mobile_number\",\n",
    "    \"career\": \"job\",\n",
    "    \"agent_region\": \"agent_region\"\n",
    "}\n",
    "\n",
    "df = df_merged.rename(columns=rename_columns)\n",
    "df"
   ]
  },
  {
   "cell_type": "code",
   "execution_count": null,
   "id": "8e94d1fb",
   "metadata": {},
   "outputs": [],
   "source": [
    "df['status_agent'].unique()\n"
   ]
  },
  {
   "cell_type": "code",
   "execution_count": null,
   "id": "af50e801",
   "metadata": {},
   "outputs": [],
   "source": [
    "df['is_experienced_fix'] = df['is_experienced'].apply(lambda x: 'เคยขาย' if str(x).strip().lower() == 'ไม่เคยขาย' else 'ไม่เคยขาย')\n",
    "df['is_experienced_fix']"
   ]
  },
  {
   "cell_type": "code",
   "execution_count": null,
   "id": "3fd8d456",
   "metadata": {},
   "outputs": [],
   "source": [
    "df = df.drop(columns=['is_experienced'])"
   ]
  },
  {
   "cell_type": "code",
   "execution_count": null,
   "id": "6a59b242",
   "metadata": {},
   "outputs": [],
   "source": [
    "df.rename(columns={'is_experienced_fix': 'is_experienced'}, inplace=True)\n",
    "df"
   ]
  },
  {
   "cell_type": "code",
   "execution_count": null,
   "id": "7697609b",
   "metadata": {},
   "outputs": [],
   "source": [
    "valid_types = ['BUY', 'SELL', 'SHARE']\n",
    "\n",
    "df.loc[~df['type_agent'].isin(valid_types), 'type_agent'] = np.nan"
   ]
  },
  {
   "cell_type": "code",
   "execution_count": null,
   "id": "88893fdb",
   "metadata": {},
   "outputs": [],
   "source": [
    "valid_rank = ['1', '2', '3', '4', '5', '6', '7', '8', '9', '10']\n",
    "\n",
    "df.loc[~df['agent_rank'].isin(valid_rank), 'agent_rank'] = np.nan\n"
   ]
  },
  {
   "cell_type": "code",
   "execution_count": null,
   "id": "6f2e5b59",
   "metadata": {},
   "outputs": [],
   "source": [
    "df['agent_rank'].unique()"
   ]
  },
  {
   "cell_type": "code",
   "execution_count": null,
   "id": "6dc3dd8f",
   "metadata": {},
   "outputs": [],
   "source": [
    "import pandas as pd\n",
    "import re\n",
    "\n",
    "def clean_address(addr):\n",
    "    if pd.isna(addr):\n",
    "        return ''\n",
    "\n",
    "    # ลบ 'เลขที่ -', 'หมู่ที่ -', 'หมู่บ้าน -', 'ซอย -', 'ถนน -'\n",
    "    addr = re.sub(r'(เลขที่|หมู่ที่|หมู่บ้าน|ซอย|ถนน)[\\s\\-]*', '', addr, flags=re.IGNORECASE)\n",
    "\n",
    "    # ลบ - เดี่ยวที่เหลืออยู่ (ซึ่งมักเป็นช่องว่างแฝง)\n",
    "    addr = re.sub(r'\\s*-\\s*', '', addr)\n",
    "\n",
    "    # ลบช่องว่างซ้ำกัน\n",
    "    addr = re.sub(r'\\s+', ' ', addr)\n",
    "\n",
    "    # ตัดช่องว่างหัวท้าย\n",
    "    return addr.strip()\n",
    "\n",
    "# สมมติ df มีคอลัมน์ชื่อ 'address'\n",
    "df['agent_address_cleaned'] = df['agent_address'].apply(clean_address)\n"
   ]
  },
  {
   "cell_type": "code",
   "execution_count": null,
   "id": "7bd37ad3-ef71-4b7c-9730-3338dc80b6a1",
   "metadata": {},
   "outputs": [],
   "source": [
    "df = df.drop(columns=['agent_address'])"
   ]
  },
  {
   "cell_type": "code",
   "execution_count": null,
   "id": "63a9666c",
   "metadata": {},
   "outputs": [],
   "source": [
    "df.rename(columns={'agent_address_cleaned': 'agent_address'}, inplace=True)\n"
   ]
  },
  {
   "cell_type": "code",
   "execution_count": null,
   "id": "c0ba226d",
   "metadata": {},
   "outputs": [],
   "source": [
    "# df = df.replace(r'^\\s*$', pd.NA, regex=True)  \n",
    "# df = df[df.count(axis=1) > 1]\n",
    "# df"
   ]
  },
  {
   "cell_type": "code",
   "execution_count": null,
   "id": "92c9fad1",
   "metadata": {},
   "outputs": [],
   "source": [
    "import pandas as pd\n",
    "import numpy as np\n",
    "\n",
    "# แปลงช่องว่างทุกแบบเป็น NaN ชั่วคราว เพื่อการนับข้อมูล\n",
    "df_temp = df.replace(r'^\\s*$', np.nan, regex=True)\n",
    "\n",
    "# เพิ่มคอลัมน์ช่วยนับจำนวนข้อมูล (non-null)\n",
    "df['non_empty_count'] = df_temp.notnull().sum(axis=1)\n",
    "\n",
    "# >>>> ส่วนที่แก้ไขตรงนี้ <<<<\n",
    "# ตรวจสอบ agent_id ที่ไม่ว่าง (ไม่ใช่ NaN และไม่ใช่ช่องว่าง)\n",
    "valid_agent_id_mask = df['agent_id'].astype(str).str.strip().ne('') & df['agent_id'].notna()\n",
    "\n",
    "# แยกกลุ่มที่ agent_id ไม่ว่างและ agent_id ว่าง\n",
    "df_with_id = df[valid_agent_id_mask]\n",
    "df_without_id = df[~valid_agent_id_mask]\n",
    "\n",
    "# คัดแถวที่ agent_id ซ้ำ โดยเก็บแถวที่มีข้อมูลมากที่สุด\n",
    "df_with_id_cleaned = df_with_id.sort_values('non_empty_count', ascending=False).drop_duplicates(subset='agent_id', keep='first')\n",
    "\n",
    "# รวมกลับ\n",
    "df_cleaned = pd.concat([df_with_id_cleaned, df_without_id], ignore_index=True)\n",
    "\n",
    "# ลบคอลัมน์ช่วย\n",
    "df_cleaned = df_cleaned.drop(columns=['non_empty_count'])\n",
    "df_cleaned = df_cleaned.replace(\n",
    "    to_replace=r'^\\s*$|(?i:^none$)|^-$',  # << แก้ตรงนี้\n",
    "    value=np.nan,\n",
    "    regex=True\n",
    ")\n",
    "\n",
    "\n",
    "df_cleaned.columns = df_cleaned.columns.str.lower()\n",
    "df_cleaned\n"
   ]
  },
  {
   "cell_type": "code",
   "execution_count": null,
   "id": "84f3b407",
   "metadata": {},
   "outputs": [],
   "source": [
    "df_cleaned.replace(np.nan, \"NaN\").isin([\"none\", \"-\", \"None\"]).sum()\n",
    "df_cleaned"
   ]
  },
  {
   "cell_type": "code",
   "execution_count": null,
   "id": "9ac949e5",
   "metadata": {},
   "outputs": [],
   "source": [
    "df_cleaned['is_experienced'] = df_cleaned['is_experienced'].apply(lambda x: 'yes' if str(x).strip().lower() == 'no' else 'no')\n"
   ]
  },
  {
   "cell_type": "code",
   "execution_count": null,
   "id": "f6aecaa2",
   "metadata": {},
   "outputs": [],
   "source": [
    "df_cleaned = df_cleaned.replace(r'^\\.$', np.nan, regex=True)\n",
    "df_cleaned"
   ]
  },
  {
   "cell_type": "code",
   "execution_count": null,
   "id": "676c406e",
   "metadata": {},
   "outputs": [],
   "source": [
    "import numpy as np\n",
    "\n",
    "# ฟังก์ชันช่วยแปลง\n",
    "def clean_value(val):\n",
    "    if pd.isna(val):         # NaN แบบจริง (เช่น np.nan)\n",
    "        return None\n",
    "    if isinstance(val, str):\n",
    "        if val.strip() == \"\":\n",
    "            return None\n",
    "        if val.strip().lower() == \"nan\":\n",
    "            return None\n",
    "    return val\n",
    "\n",
    "# ใช้ applymap แปลงทุก cell ในทั้ง DataFrame\n",
    "df_cleaned = df_cleaned.applymap(clean_value)\n",
    "df_cleaned\n"
   ]
  },
  {
   "cell_type": "code",
   "execution_count": null,
   "id": "744bb53b",
   "metadata": {},
   "outputs": [],
   "source": [
    "import pandas as pd\n",
    "import os\n",
    "from dotenv import load_dotenv\n",
    "from sqlalchemy import create_engine\n",
    "\n",
    "load_dotenv() \n",
    "\n",
    "user = os.getenv('DB_USER')\n",
    "password = os.getenv('DB_PASSWORD')\n",
    "host = os.getenv('DB_HOST')\n",
    "port = os.getenv('DB_PORT')  \n",
    "database = 'fininsurance'\n",
    "\n",
    "engine = create_engine(f'mariadb+mariadbconnector://{user}:{password}@{host}:{port}/{database}')\n",
    "\n",
    "query = \"\"\"\n",
    "SELECT quo_num, id_cus\n",
    "FROM fin_system_select_plan\n",
    "\"\"\"\n",
    "\n",
    "df4 = pd.read_sql(query, engine)\n",
    "df4\n"
   ]
  },
  {
   "cell_type": "code",
   "execution_count": null,
   "id": "d8f1a016",
   "metadata": {},
   "outputs": [],
   "source": [
    "df4 = df4.rename(columns={'quo_num': 'quotation_num'})\n",
    "df4"
   ]
  },
  {
   "cell_type": "code",
   "execution_count": null,
   "id": "304cc4ee",
   "metadata": {},
   "outputs": [],
   "source": [
    "import pandas as pd\n",
    "import os\n",
    "from dotenv import load_dotenv\n",
    "from sqlalchemy import create_engine\n",
    "import numpy as np\n",
    "\n",
    "# โหลดตัวแปรจาก .env\n",
    "load_dotenv()\n",
    "\n",
    "# ดึงค่าจาก environment\n",
    "user = os.getenv('DB_USER_test')\n",
    "password = os.getenv('DB_PASSWORD_test')\n",
    "host = os.getenv('DB_HOST_test')\n",
    "port = os.getenv('DB_PORT_test')  \n",
    "database = 'fininsurance'\n",
    "\n",
    "# สร้าง engine สำหรับเชื่อมต่อฐานข้อมูล\n",
    "engine = create_engine(f'postgresql+psycopg2://{user}:{password}@{host}:{port}/{database}')\n",
    "\n",
    "# SQL query\n",
    "query = \"\"\"\n",
    "SELECT *\n",
    "FROM fact_sales_quotation \n",
    "\"\"\"\n",
    "\n",
    "df6 = pd.read_sql(query, engine)\n",
    "df6"
   ]
  },
  {
   "cell_type": "code",
   "execution_count": null,
   "id": "8cec9b65",
   "metadata": {},
   "outputs": [],
   "source": [
    "df6 = df6.drop(columns=['create_at', 'update_at', 'agent_id'])\n",
    "df6"
   ]
  },
  {
   "cell_type": "code",
   "execution_count": null,
   "id": "cffb12a9",
   "metadata": {},
   "outputs": [],
   "source": [
    "df_result1 = pd.merge(df4, df6, on=['quotation_num'], how='right')\n",
    "df_result1"
   ]
  },
  {
   "cell_type": "code",
   "execution_count": null,
   "id": "1427003c",
   "metadata": {},
   "outputs": [],
   "source": [
    "import pandas as pd\n",
    "import os\n",
    "from dotenv import load_dotenv\n",
    "from sqlalchemy import create_engine\n",
    "import numpy as np\n",
    "\n",
    "# โหลดตัวแปรจาก .env\n",
    "load_dotenv()\n",
    "\n",
    "# ดึงค่าจาก environment\n",
    "user = os.getenv('DB_USER_test')\n",
    "password = os.getenv('DB_PASSWORD_test')\n",
    "host = os.getenv('DB_HOST_test')\n",
    "port = os.getenv('DB_PORT_test')  \n",
    "database = 'fininsurance'\n",
    "\n",
    "# สร้าง engine สำหรับเชื่อมต่อฐานข้อมูล\n",
    "engine = create_engine(f'postgresql+psycopg2://{user}:{password}@{host}:{port}/{database}')\n",
    "\n",
    "# SQL query\n",
    "query = \"\"\"\n",
    "SELECT *\n",
    "FROM dim_agent \n",
    "\"\"\"\n",
    "\n",
    "df5 = pd.read_sql(query, engine)\n",
    "df5"
   ]
  },
  {
   "cell_type": "code",
   "execution_count": null,
   "id": "85fcb368",
   "metadata": {},
   "outputs": [],
   "source": [
    "df5 = df5.drop(columns=['create_at', 'update_at'])\n",
    "df5"
   ]
  },
  {
   "cell_type": "code",
   "execution_count": null,
   "id": "4eb73e18",
   "metadata": {},
   "outputs": [],
   "source": [
    "df5 = df5.rename(columns={'agent_id': 'id_cus'})\n",
    "df5"
   ]
  },
  {
   "cell_type": "code",
   "execution_count": null,
   "id": "db81a0cb",
   "metadata": {},
   "outputs": [],
   "source": [
    "df_result = pd.merge(df_result1, df5, on=['id_cus'], how='inner')\n",
    "df_result"
   ]
  },
  {
   "cell_type": "code",
   "execution_count": null,
   "id": "94ae4732",
   "metadata": {},
   "outputs": [],
   "source": [
    "df_result.columns"
   ]
  },
  {
   "cell_type": "code",
   "execution_count": null,
   "id": "cdc36f68",
   "metadata": {},
   "outputs": [],
   "source": [
    "import numpy as np\n",
    "import pandas as pd\n",
    "\n",
    "# แก้ NaT, NaN ทั้ง dataframe ให้เป็น None\n",
    "df_result = df_result.where(pd.notnull(df_result), None)\n"
   ]
  },
  {
   "cell_type": "code",
   "execution_count": null,
   "id": "258fd544",
   "metadata": {},
   "outputs": [],
   "source": [
    "df_result = df_result.rename(columns={'id_contact': 'agent_id'})\n",
    "df_result  \n"
   ]
  },
  {
   "cell_type": "code",
   "execution_count": null,
   "id": "1289234b",
   "metadata": {},
   "outputs": [],
   "source": [
    "df_selected = df_result[['quotation_num', 'agent_id']]\n",
    "df_selected "
   ]
  },
  {
   "cell_type": "code",
   "execution_count": null,
   "id": "32844016",
   "metadata": {},
   "outputs": [],
   "source": [
    "import os\n",
    "from sqlalchemy import create_engine, MetaData, Table, update\n",
    "\n",
    "user = os.getenv('DB_USER_test')\n",
    "password = os.getenv('DB_PASSWORD_test')\n",
    "host = os.getenv('DB_HOST_test')\n",
    "port = os.getenv('DB_PORT_test')\n",
    "database = 'fininsurance'\n",
    "\n",
    "engine = create_engine(f'postgresql+psycopg2://{user}:{password}@{host}:{port}/{database}')\n",
    "\n",
    "metadata = MetaData()\n",
    "table = Table('fact_sales_quotation', metadata, autoload_with=engine)\n",
    "\n",
    "records = df_selected.to_dict(orient='records')\n",
    "\n",
    "chunk_size = 5000\n",
    "\n",
    "for start in range(0, len(records), chunk_size):\n",
    "    end = start + chunk_size\n",
    "    chunk = records[start:end]\n",
    "\n",
    "    print(f\"🔄 Updating chunk {start // chunk_size + 1}: records {start} to {end - 1}\")\n",
    "\n",
    "    with engine.begin() as conn:\n",
    "        for record in chunk:\n",
    "            # ตรวจสอบว่ามี quotation_num และ agent_id หรือไม่\n",
    "            if 'quotation_num' not in record or pd.isna(record['quotation_num']):\n",
    "                print(f\"⚠️ Skip row: no quotation_num: {record}\")\n",
    "                continue\n",
    "            if 'agent_id' not in record or pd.isna(record['agent_id']):\n",
    "                print(f\"⚠️ Skip row: no agent_id: {record}\")\n",
    "                continue\n",
    "\n",
    "            # ✅ Update เฉพาะคอลัมน์เดียว\n",
    "            stmt = (\n",
    "                update(table)\n",
    "                .where(table.c.quotation_num == record['quotation_num'])\n",
    "                .values(agent_id=record['agent_id'])\n",
    "            )\n",
    "            conn.execute(stmt)\n",
    "\n",
    "print(\"✅ Update agent_id completed successfully.\")"
   ]
  },
  {
   "cell_type": "code",
   "execution_count": null,
   "id": "4b714aa1",
   "metadata": {},
   "outputs": [],
   "source": [
    "df_selected.to_excel('1.xlsx', index=False, engine='openpyxl')"
   ]
  }
 ],
 "metadata": {
  "kernelspec": {
   "display_name": "Python 3",
   "language": "python",
   "name": "python3"
  },
  "language_info": {
   "codemirror_mode": {
    "name": "ipython",
    "version": 3
   },
   "file_extension": ".py",
   "mimetype": "text/x-python",
   "name": "python",
   "nbconvert_exporter": "python",
   "pygments_lexer": "ipython3",
   "version": "3.11.9"
  }
 },
 "nbformat": 4,
 "nbformat_minor": 5
}
